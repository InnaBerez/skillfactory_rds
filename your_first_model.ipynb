{
 "cells": [
  {
   "cell_type": "markdown",
   "metadata": {},
   "source": [
    "# Загрузка Pandas и очистка данных"
   ]
  },
  {
   "cell_type": "code",
   "execution_count": 661,
   "metadata": {},
   "outputs": [],
   "source": [
    "import pandas as pd\n",
    "from collections import Counter\n",
    "import time\n",
    "from datetime import datetime\n",
    "import re"
   ]
  },
  {
   "cell_type": "code",
   "execution_count": 662,
   "metadata": {},
   "outputs": [],
   "source": [
    "df = pd.read_csv('main_task.csv')"
   ]
  },
  {
   "cell_type": "code",
   "execution_count": 663,
   "metadata": {},
   "outputs": [],
   "source": [
    "# Ваш код по очистке данных и генерации новых признаков\n",
    "# При необходимости добавьте ячейки"
   ]
  },
  {
   "cell_type": "code",
   "execution_count": 664,
   "metadata": {},
   "outputs": [],
   "source": [
    "#Создаем столбец для пустных значений 'Number of Reviews', пропуски заполняем нолями\n",
    "df['Number_of_Reviews_isNAN'] = pd.isna(df['Number of Reviews']).astype('uint8')\n",
    "df['Number of Reviews'].fillna(0, inplace=True)"
   ]
  },
  {
   "cell_type": "code",
   "execution_count": 665,
   "metadata": {},
   "outputs": [],
   "source": [
    "#Создаем толбец для пустых значений 'Price Range', пропуски заполняем самым часто встречающимся\n",
    "df['Price Range_isNAN'] = pd.isna(df['Price Range']).astype('uint8')\n",
    "df['Price Range'] = df['Price Range'].fillna(df['Price Range'].mode()[0])"
   ]
  },
  {
   "cell_type": "code",
   "execution_count": 666,
   "metadata": {},
   "outputs": [],
   "source": [
    "#Пропуски в ревью заполним пустыми строками\n",
    "df['Reviews']=df['Reviews'].fillna('')"
   ]
  },
  {
   "cell_type": "code",
   "execution_count": 667,
   "metadata": {},
   "outputs": [],
   "source": [
    "#Выше мы уже заполнили пропуски в 'Price Range' самым часто встречающимся значением\n",
    "# Каждой категории цен присваиваем числовое значение\n",
    "def new_price_range(row):\n",
    "    if row['Price Range']=='$':\n",
    "        return 1\n",
    "    if row['Price Range']=='$$$$':\n",
    "        return 3\n",
    "    return 2\n",
    "\n",
    "#Формируем новый столбец с категорией цен\n",
    "df['New_PRange']=df.apply(lambda row: new_price_range(row), axis=1)"
   ]
  },
  {
   "cell_type": "markdown",
   "metadata": {},
   "source": [
    "# Обрабатываем столбец 'Cuisine Style'"
   ]
  },
  {
   "cell_type": "code",
   "execution_count": 668,
   "metadata": {},
   "outputs": [],
   "source": [
    "# Здесь работаем только с НЕпустыми значениями, чтобы в дальнейшем пропуски заполнить через fillna()\n",
    "def replace_cuisine(x):\n",
    "    if pd.isna(x):\n",
    "        return x \n",
    "    else:\n",
    "        replace_list = ['[',']',\"'\"]\n",
    "        for value in replace_list:\n",
    "            x = x.replace(value,'')\n",
    "        return x.replace(', ',',')\n",
    "\n",
    "df['Cuisine Style'] = df['Cuisine Style'].apply(replace_cuisine)"
   ]
  },
  {
   "cell_type": "code",
   "execution_count": 669,
   "metadata": {},
   "outputs": [],
   "source": [
    "#Далее считаем, какое количество раз каждая кухня встречается в нашем датасете, для выявления самых популярных\n",
    "max_count_cusine = Counter(df['Cuisine Style'].str.cat(sep=',').split(','))"
   ]
  },
  {
   "cell_type": "code",
   "execution_count": 670,
   "metadata": {},
   "outputs": [],
   "source": [
    "# Сортируем полученный словарь\n",
    "new_dc=dict(sorted(max_count_cusine.items(), key=lambda x: x[1], reverse=True))"
   ]
  },
  {
   "cell_type": "code",
   "execution_count": 671,
   "metadata": {},
   "outputs": [],
   "source": [
    "#Выбираем 3 самых часто встречающихся типа кухонь\n",
    "pop_cuis=', '.join(list(new_dc.keys())[:3])"
   ]
  },
  {
   "cell_type": "code",
   "execution_count": 672,
   "metadata": {},
   "outputs": [],
   "source": [
    "# И заполняем ими пропуски\n",
    "df['Cuisine Style'] = df['Cuisine Style'].apply(lambda x: pop_cuis if pd.isna(x) else x)"
   ]
  },
  {
   "cell_type": "code",
   "execution_count": 673,
   "metadata": {},
   "outputs": [],
   "source": [
    "#Функция по подстчету количества кухонь, представленных в каждом ресторане\n",
    "def amount_of_cuisin(row):\n",
    "    return len(row['Cuisine Style'].replace(\"'\", '').split(','))\n",
    "\n",
    "#Создаем новый числовой признак \"количество кухонь\"\n",
    "df['cuisin_amount']=df.apply(lambda row: amount_of_cuisin(row), axis=1)"
   ]
  },
  {
   "cell_type": "code",
   "execution_count": 674,
   "metadata": {},
   "outputs": [],
   "source": [
    "# считаем сколько ресторанов в каждом городе, формируем словарь\n",
    "rest=dict(df.City.value_counts())"
   ]
  },
  {
   "cell_type": "code",
   "execution_count": 675,
   "metadata": {},
   "outputs": [],
   "source": [
    "#функция отношения ранка ресторана к количеству ресторанов в городе \n",
    "def rest_rank(row, c_s):\n",
    "    for i in c_s.keys():\n",
    "        if row['City'] == i:\n",
    "            res = row['Ranking']/c_s[i]\n",
    "    return res\n",
    "\n",
    "#Создаем новый признак - отношение ранка ресторана к количеству ресторанов по городу \n",
    "df['Rest_Rank'] = df.apply(lambda x: rest_rank(x, rest), axis=1)"
   ]
  },
  {
   "cell_type": "markdown",
   "metadata": {},
   "source": [
    "# Работаем со столбцом 'Reviews'\n"
   ]
  },
  {
   "cell_type": "code",
   "execution_count": 676,
   "metadata": {},
   "outputs": [],
   "source": [
    "# Переводим информацию из столбца ревью в формат даты\n",
    "pattern = re.compile('\\d+[/]\\d+[/]\\d+')\n",
    "df['Reviews Date'] = df['Reviews'].apply(lambda x: pattern.findall(x))\n",
    "df['Reviews Date'] = df['Reviews Date'].apply(lambda x: [pd.to_datetime(i).date() for i in x])"
   ]
  },
  {
   "cell_type": "markdown",
   "metadata": {},
   "source": [
    "# Создаем новый признак - разница в днях между ревью"
   ]
  },
  {
   "cell_type": "code",
   "execution_count": 677,
   "metadata": {},
   "outputs": [],
   "source": [
    "#Если у нас есть два ревью с датами, то считаем разницу, если дата одна или ее нет, то присваиваем 0\n",
    "def review_date_diff(row):\n",
    "    if len(row['Reviews Date'])==2:\n",
    "        return abs((row['Reviews Date'][0]-row['Reviews Date'][1]).days)\n",
    "    return 0\n",
    "#Заполняем столбец с новым признаком\n",
    "df['Delta_Review']=df.apply(lambda row: review_date_diff(row), axis=1)"
   ]
  },
  {
   "cell_type": "code",
   "execution_count": 678,
   "metadata": {},
   "outputs": [],
   "source": [
    "#Переводим City в Dummy переменные\n",
    "df=pd.get_dummies(df, columns = ['City'])"
   ]
  },
  {
   "cell_type": "code",
   "execution_count": 679,
   "metadata": {},
   "outputs": [],
   "source": [
    "#Удаляем колонки с данными типа \"object\"\n",
    "for col in df.columns:\n",
    "    if(df[col].dtype)=='object':\n",
    "        df.drop(columns=col, inplace=True)"
   ]
  },
  {
   "cell_type": "code",
   "execution_count": 680,
   "metadata": {},
   "outputs": [
    {
     "name": "stdout",
     "output_type": "stream",
     "text": [
      "<class 'pandas.core.frame.DataFrame'>\n",
      "RangeIndex: 40000 entries, 0 to 39999\n",
      "Data columns (total 40 columns):\n",
      " #   Column                   Non-Null Count  Dtype  \n",
      "---  ------                   --------------  -----  \n",
      " 0   Ranking                  40000 non-null  float64\n",
      " 1   Rating                   40000 non-null  float64\n",
      " 2   Number of Reviews        40000 non-null  float64\n",
      " 3   Number_of_Reviews_isNAN  40000 non-null  uint8  \n",
      " 4   Price Range_isNAN        40000 non-null  uint8  \n",
      " 5   New_PRange               40000 non-null  int64  \n",
      " 6   cuisin_amount            40000 non-null  int64  \n",
      " 7   Rest_Rank                40000 non-null  float64\n",
      " 8   Delta_Review             40000 non-null  int64  \n",
      " 9   City_Amsterdam           40000 non-null  uint8  \n",
      " 10  City_Athens              40000 non-null  uint8  \n",
      " 11  City_Barcelona           40000 non-null  uint8  \n",
      " 12  City_Berlin              40000 non-null  uint8  \n",
      " 13  City_Bratislava          40000 non-null  uint8  \n",
      " 14  City_Brussels            40000 non-null  uint8  \n",
      " 15  City_Budapest            40000 non-null  uint8  \n",
      " 16  City_Copenhagen          40000 non-null  uint8  \n",
      " 17  City_Dublin              40000 non-null  uint8  \n",
      " 18  City_Edinburgh           40000 non-null  uint8  \n",
      " 19  City_Geneva              40000 non-null  uint8  \n",
      " 20  City_Hamburg             40000 non-null  uint8  \n",
      " 21  City_Helsinki            40000 non-null  uint8  \n",
      " 22  City_Krakow              40000 non-null  uint8  \n",
      " 23  City_Lisbon              40000 non-null  uint8  \n",
      " 24  City_Ljubljana           40000 non-null  uint8  \n",
      " 25  City_London              40000 non-null  uint8  \n",
      " 26  City_Luxembourg          40000 non-null  uint8  \n",
      " 27  City_Lyon                40000 non-null  uint8  \n",
      " 28  City_Madrid              40000 non-null  uint8  \n",
      " 29  City_Milan               40000 non-null  uint8  \n",
      " 30  City_Munich              40000 non-null  uint8  \n",
      " 31  City_Oporto              40000 non-null  uint8  \n",
      " 32  City_Oslo                40000 non-null  uint8  \n",
      " 33  City_Paris               40000 non-null  uint8  \n",
      " 34  City_Prague              40000 non-null  uint8  \n",
      " 35  City_Rome                40000 non-null  uint8  \n",
      " 36  City_Stockholm           40000 non-null  uint8  \n",
      " 37  City_Vienna              40000 non-null  uint8  \n",
      " 38  City_Warsaw              40000 non-null  uint8  \n",
      " 39  City_Zurich              40000 non-null  uint8  \n",
      "dtypes: float64(4), int64(3), uint8(33)\n",
      "memory usage: 3.4 MB\n"
     ]
    }
   ],
   "source": [
    "df.info()"
   ]
  },
  {
   "cell_type": "markdown",
   "metadata": {},
   "source": [
    "# Разбиваем датафрейм на части, необходимые для обучения и тестирования модели"
   ]
  },
  {
   "cell_type": "code",
   "execution_count": 681,
   "metadata": {},
   "outputs": [],
   "source": [
    "# Х - данные с информацией о ресторанах, у - целевая переменная (рейтинги ресторанов)\n",
    "X = df.drop(['Rating'], axis = 1)\n",
    "y = df['Rating']"
   ]
  },
  {
   "cell_type": "code",
   "execution_count": 682,
   "metadata": {},
   "outputs": [],
   "source": [
    "# Загружаем специальный инструмент для разбивки:\n",
    "from sklearn.model_selection import train_test_split"
   ]
  },
  {
   "cell_type": "code",
   "execution_count": 683,
   "metadata": {},
   "outputs": [],
   "source": [
    "# Наборы данных с меткой \"train\" будут использоваться для обучения модели, \"test\" - для тестирования.\n",
    "# Для тестирования мы будем использовать 25% от исходного датасета.\n",
    "X_train, X_test, y_train, y_test = train_test_split(X, y, test_size=0.25)"
   ]
  },
  {
   "cell_type": "markdown",
   "metadata": {},
   "source": [
    "# Создаём, обучаем и тестируем модель"
   ]
  },
  {
   "cell_type": "code",
   "execution_count": 684,
   "metadata": {},
   "outputs": [],
   "source": [
    "# Импортируем необходимые библиотеки:\n",
    "from sklearn.ensemble import RandomForestRegressor # инструмент для создания и обучения модели\n",
    "from sklearn import metrics # инструменты для оценки точности модели"
   ]
  },
  {
   "cell_type": "code",
   "execution_count": 685,
   "metadata": {},
   "outputs": [],
   "source": [
    "# Создаём модель\n",
    "regr = RandomForestRegressor(n_estimators=100)\n",
    "\n",
    "# Обучаем модель на тестовом наборе данных\n",
    "regr.fit(X_train, y_train)\n",
    "\n",
    "# Используем обученную модель для предсказания рейтинга ресторанов в тестовой выборке.\n",
    "# Предсказанные значения записываем в переменную y_pred\n",
    "y_pred = regr.predict(X_test)"
   ]
  },
  {
   "cell_type": "code",
   "execution_count": 686,
   "metadata": {},
   "outputs": [
    {
     "name": "stdout",
     "output_type": "stream",
     "text": [
      "MAE: 0.20907199999999998\n"
     ]
    }
   ],
   "source": [
    "# Сравниваем предсказанные значения (y_pred) с реальными (y_test), и смотрим насколько они в среднем отличаются\n",
    "# Метрика называется Mean Absolute Error (MAE) и показывает среднее отклонение предсказанных значений от фактических.\n",
    "print('MAE:', metrics.mean_absolute_error(y_test, y_pred))"
   ]
  },
  {
   "cell_type": "code",
   "execution_count": 687,
   "metadata": {},
   "outputs": [
    {
     "data": {
      "text/plain": [
       "<AxesSubplot:>"
      ]
     },
     "execution_count": 687,
     "metadata": {},
     "output_type": "execute_result"
    },
    {
     "data": {
      "image/png": "[encoded data removed]",
      "text/plain": [
       "<Figure size 720x720 with 1 Axes>"
      ]
     },
     "metadata": {
      "needs_background": "light"
     },
     "output_type": "display_data"
    }
   ],
   "source": [
    "import matplotlib.pyplot as plt\n",
    "plt.rcParams['figure.figsize'] = (10,10)\n",
    "feat_importances = pd.Series(regr.feature_importances_, index=X.columns)\n",
    "feat_importances.nlargest(15).plot(kind='barh')"
   ]
  },
  {
   "cell_type": "code",
   "execution_count": null,
   "metadata": {},
   "outputs": [],
   "source": []
  }
 ],
 "metadata": {
  "kernelspec": {
   "display_name": "Python 3",
   "language": "python",
   "name": "python3"
  },
  "language_info": {
   "codemirror_mode": {
    "name": "ipython",
    "version": 3
   },
   "file_extension": ".py",
   "mimetype": "text/x-python",
   "name": "python",
   "nbconvert_exporter": "python",
   "pygments_lexer": "ipython3",
   "version": "3.8.5"
  }
 },
 "nbformat": 4,
 "nbformat_minor": 2
}
