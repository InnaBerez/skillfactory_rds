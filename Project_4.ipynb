{
 "cells": [
  {
   "cell_type": "code",
   "execution_count": 257,
   "metadata": {},
   "outputs": [],
   "source": [
    "from pandas import Series \n",
    "import pandas as pd\n",
    "import numpy as np\n",
    "\n",
    "import matplotlib.pyplot as plt\n",
    "import seaborn as sns\n",
    "\n",
    "from sklearn.feature_selection import f_classif, mutual_info_classif\n",
    "from sklearn.preprocessing import LabelEncoder, OneHotEncoder, StandardScaler\n",
    "\n",
    "from sklearn.model_selection import train_test_split\n",
    "from sklearn.linear_model import LogisticRegression\n",
    "\n",
    "\n",
    "from sklearn.metrics import confusion_matrix, auc, roc_auc_score, roc_curve, plot_confusion_matrix\n",
    "from sklearn.metrics import accuracy_score, precision_score, recall_score, f1_score\n",
    "\n",
    "import warnings\n",
    "warnings.filterwarnings(\"ignore\") \n",
    "\n"
   ]
  },
  {
   "cell_type": "code",
   "execution_count": 258,
   "metadata": {},
   "outputs": [],
   "source": [
    "# Функция для вывода метрик для оценки качества модели\n",
    "def all_metrics(y_true, y_pred, y_pred_prob):\n",
    "    dict_metric = {}\n",
    "    P = np.sum(y_true==1)\n",
    "    N = np.sum(y_true==0)\n",
    "    TP = np.sum((y_true==1)&(y_pred==1))\n",
    "    TN = np.sum((y_true==0)&(y_pred==0))\n",
    "    FP = np.sum((y_true==0)&(y_pred==1))\n",
    "    FN = np.sum((y_true==1)&(y_pred==0))\n",
    "    \n",
    "    dict_metric['Positive, P'] = [P,'default']\n",
    "    dict_metric['Negative, N'] = [N,'non-default']\n",
    "    dict_metric['True Positive, TP'] = [TP,'correctly identified default']\n",
    "    dict_metric['True Negative, TN'] = [TN,'correctly identified non-default']\n",
    "    dict_metric['False Positive, FP'] = [FP,'incorrectly identified default']\n",
    "    dict_metric['False Negative, FN'] = [FN,'incorrectly identified non-default']\n",
    "    dict_metric['Accuracy'] = [accuracy_score(y_true, y_pred),'Accuracy=(TP+TN)/(P+N)']\n",
    "    dict_metric['Precision'] = [precision_score(y_true, y_pred),'Precision = TP/(TP+FP)'] \n",
    "    dict_metric['Recall'] = [recall_score(y_true, y_pred),'Recall = TP/P']\n",
    "    dict_metric['F1-score'] = [f1_score(y_true, y_pred),'Harmonical mean of Precision и Recall']\n",
    "    dict_metric['ROC_AUC'] = [roc_auc_score(y_true, y_pred_prob),'ROC AUC Score']    \n",
    "\n",
    "    temp_df = pd.DataFrame.from_dict(dict_metric, orient='index', columns=['Value', 'Description'])\n",
    "    display(temp_df) "
   ]
  },
  {
   "cell_type": "code",
   "execution_count": 259,
   "metadata": {},
   "outputs": [],
   "source": [
    "train = pd.read_csv('scor_train.csv')\n",
    "test= pd.read_csv('scor_test.csv')\n",
    "sample_submission = pd.read_csv('scor_sample_submission.csv')"
   ]
  },
  {
   "cell_type": "markdown",
   "metadata": {},
   "source": [
    "\n",
    "\n",
    "Подробнее по признакам:\n",
    "\n",
    "    client_id - идентификатор клиента\n",
    "    education - уровень образования\n",
    "    sex - пол заемщика\n",
    "    age - возраст заемщика\n",
    "    car - флаг наличия автомобиля\n",
    "    car_type - флаг автомобиля иномарки\n",
    "    decline_app_cnt - количество отказанных прошлых заявок\n",
    "    good_work - флаг наличия “хорошей” работы\n",
    "    bki_request_cnt - количество запросов в БКИ\n",
    "    home_address - категоризатор домашнего адреса\n",
    "    work_address - категоризатор рабочего адреса\n",
    "    income - доход заемщика\n",
    "    foreign_passport - наличие загранпаспорта\n",
    "    sna - связь заемщика с клиентами банка\n",
    "    first_time - давность наличия информации о заемщике\n",
    "    score_bki - скоринговый балл по данным из БКИ\n",
    "    region_rating - рейтинг региона\n",
    "    app_date - дата подачи заявки\n",
    "    default - флаг дефолта по кредиту\n",
    "\n"
   ]
  },
  {
   "cell_type": "code",
   "execution_count": 260,
   "metadata": {},
   "outputs": [
    {
     "data": {
      "text/html": [
       "<div>\n",
       "<style scoped>\n",
       "    .dataframe tbody tr th:only-of-type {\n",
       "        vertical-align: middle;\n",
       "    }\n",
       "\n",
       "    .dataframe tbody tr th {\n",
       "        vertical-align: top;\n",
       "    }\n",
       "\n",
       "    .dataframe thead th {\n",
       "        text-align: right;\n",
       "    }\n",
       "</style>\n",
       "<table border=\"1\" class=\"dataframe\">\n",
       "  <thead>\n",
       "    <tr style=\"text-align: right;\">\n",
       "      <th></th>\n",
       "      <th>client_id</th>\n",
       "      <th>app_date</th>\n",
       "      <th>education</th>\n",
       "      <th>sex</th>\n",
       "      <th>age</th>\n",
       "      <th>car</th>\n",
       "      <th>car_type</th>\n",
       "      <th>decline_app_cnt</th>\n",
       "      <th>good_work</th>\n",
       "      <th>score_bki</th>\n",
       "      <th>bki_request_cnt</th>\n",
       "      <th>region_rating</th>\n",
       "      <th>home_address</th>\n",
       "      <th>work_address</th>\n",
       "      <th>income</th>\n",
       "      <th>sna</th>\n",
       "      <th>first_time</th>\n",
       "      <th>foreign_passport</th>\n",
       "      <th>default</th>\n",
       "    </tr>\n",
       "  </thead>\n",
       "  <tbody>\n",
       "    <tr>\n",
       "      <th>55114</th>\n",
       "      <td>17045</td>\n",
       "      <td>24JAN2014</td>\n",
       "      <td>SCH</td>\n",
       "      <td>F</td>\n",
       "      <td>49</td>\n",
       "      <td>N</td>\n",
       "      <td>N</td>\n",
       "      <td>0</td>\n",
       "      <td>0</td>\n",
       "      <td>-1.974156</td>\n",
       "      <td>4</td>\n",
       "      <td>80</td>\n",
       "      <td>2</td>\n",
       "      <td>3</td>\n",
       "      <td>13000</td>\n",
       "      <td>2</td>\n",
       "      <td>1</td>\n",
       "      <td>N</td>\n",
       "      <td>0</td>\n",
       "    </tr>\n",
       "    <tr>\n",
       "      <th>36901</th>\n",
       "      <td>60585</td>\n",
       "      <td>10MAR2014</td>\n",
       "      <td>SCH</td>\n",
       "      <td>M</td>\n",
       "      <td>49</td>\n",
       "      <td>N</td>\n",
       "      <td>N</td>\n",
       "      <td>1</td>\n",
       "      <td>0</td>\n",
       "      <td>-1.988769</td>\n",
       "      <td>0</td>\n",
       "      <td>60</td>\n",
       "      <td>1</td>\n",
       "      <td>2</td>\n",
       "      <td>30000</td>\n",
       "      <td>1</td>\n",
       "      <td>3</td>\n",
       "      <td>N</td>\n",
       "      <td>0</td>\n",
       "    </tr>\n",
       "    <tr>\n",
       "      <th>49387</th>\n",
       "      <td>11074</td>\n",
       "      <td>18JAN2014</td>\n",
       "      <td>GRD</td>\n",
       "      <td>M</td>\n",
       "      <td>30</td>\n",
       "      <td>N</td>\n",
       "      <td>N</td>\n",
       "      <td>0</td>\n",
       "      <td>0</td>\n",
       "      <td>-1.796679</td>\n",
       "      <td>2</td>\n",
       "      <td>40</td>\n",
       "      <td>2</td>\n",
       "      <td>3</td>\n",
       "      <td>35000</td>\n",
       "      <td>1</td>\n",
       "      <td>3</td>\n",
       "      <td>N</td>\n",
       "      <td>1</td>\n",
       "    </tr>\n",
       "    <tr>\n",
       "      <th>30168</th>\n",
       "      <td>43922</td>\n",
       "      <td>20FEB2014</td>\n",
       "      <td>SCH</td>\n",
       "      <td>F</td>\n",
       "      <td>51</td>\n",
       "      <td>N</td>\n",
       "      <td>N</td>\n",
       "      <td>0</td>\n",
       "      <td>0</td>\n",
       "      <td>-1.851441</td>\n",
       "      <td>1</td>\n",
       "      <td>50</td>\n",
       "      <td>3</td>\n",
       "      <td>3</td>\n",
       "      <td>22000</td>\n",
       "      <td>1</td>\n",
       "      <td>4</td>\n",
       "      <td>Y</td>\n",
       "      <td>0</td>\n",
       "    </tr>\n",
       "    <tr>\n",
       "      <th>39080</th>\n",
       "      <td>30436</td>\n",
       "      <td>06FEB2014</td>\n",
       "      <td>UGR</td>\n",
       "      <td>F</td>\n",
       "      <td>38</td>\n",
       "      <td>Y</td>\n",
       "      <td>Y</td>\n",
       "      <td>0</td>\n",
       "      <td>1</td>\n",
       "      <td>-2.440301</td>\n",
       "      <td>5</td>\n",
       "      <td>70</td>\n",
       "      <td>1</td>\n",
       "      <td>3</td>\n",
       "      <td>163000</td>\n",
       "      <td>1</td>\n",
       "      <td>3</td>\n",
       "      <td>Y</td>\n",
       "      <td>0</td>\n",
       "    </tr>\n",
       "  </tbody>\n",
       "</table>\n",
       "</div>"
      ],
      "text/plain": [
       "       client_id   app_date education sex  age car car_type  decline_app_cnt  \\\n",
       "55114      17045  24JAN2014       SCH   F   49   N        N                0   \n",
       "36901      60585  10MAR2014       SCH   M   49   N        N                1   \n",
       "49387      11074  18JAN2014       GRD   M   30   N        N                0   \n",
       "30168      43922  20FEB2014       SCH   F   51   N        N                0   \n",
       "39080      30436  06FEB2014       UGR   F   38   Y        Y                0   \n",
       "\n",
       "       good_work  score_bki  bki_request_cnt  region_rating  home_address  \\\n",
       "55114          0  -1.974156                4             80             2   \n",
       "36901          0  -1.988769                0             60             1   \n",
       "49387          0  -1.796679                2             40             2   \n",
       "30168          0  -1.851441                1             50             3   \n",
       "39080          1  -2.440301                5             70             1   \n",
       "\n",
       "       work_address  income  sna  first_time foreign_passport  default  \n",
       "55114             3   13000    2           1                N        0  \n",
       "36901             2   30000    1           3                N        0  \n",
       "49387             3   35000    1           3                N        1  \n",
       "30168             3   22000    1           4                Y        0  \n",
       "39080             3  163000    1           3                Y        0  "
      ]
     },
     "execution_count": 260,
     "metadata": {},
     "output_type": "execute_result"
    }
   ],
   "source": [
    "train.sample(5)"
   ]
  },
  {
   "cell_type": "code",
   "execution_count": 261,
   "metadata": {},
   "outputs": [
    {
     "data": {
      "text/html": [
       "<div>\n",
       "<style scoped>\n",
       "    .dataframe tbody tr th:only-of-type {\n",
       "        vertical-align: middle;\n",
       "    }\n",
       "\n",
       "    .dataframe tbody tr th {\n",
       "        vertical-align: top;\n",
       "    }\n",
       "\n",
       "    .dataframe thead th {\n",
       "        text-align: right;\n",
       "    }\n",
       "</style>\n",
       "<table border=\"1\" class=\"dataframe\">\n",
       "  <thead>\n",
       "    <tr style=\"text-align: right;\">\n",
       "      <th></th>\n",
       "      <th>client_id</th>\n",
       "      <th>app_date</th>\n",
       "      <th>education</th>\n",
       "      <th>sex</th>\n",
       "      <th>age</th>\n",
       "      <th>car</th>\n",
       "      <th>car_type</th>\n",
       "      <th>decline_app_cnt</th>\n",
       "      <th>good_work</th>\n",
       "      <th>score_bki</th>\n",
       "      <th>bki_request_cnt</th>\n",
       "      <th>region_rating</th>\n",
       "      <th>home_address</th>\n",
       "      <th>work_address</th>\n",
       "      <th>income</th>\n",
       "      <th>sna</th>\n",
       "      <th>first_time</th>\n",
       "      <th>foreign_passport</th>\n",
       "    </tr>\n",
       "  </thead>\n",
       "  <tbody>\n",
       "    <tr>\n",
       "      <th>23159</th>\n",
       "      <td>97196</td>\n",
       "      <td>14APR2014</td>\n",
       "      <td>UGR</td>\n",
       "      <td>M</td>\n",
       "      <td>31</td>\n",
       "      <td>N</td>\n",
       "      <td>N</td>\n",
       "      <td>0</td>\n",
       "      <td>1</td>\n",
       "      <td>-1.239173</td>\n",
       "      <td>0</td>\n",
       "      <td>80</td>\n",
       "      <td>2</td>\n",
       "      <td>3</td>\n",
       "      <td>60000</td>\n",
       "      <td>1</td>\n",
       "      <td>3</td>\n",
       "      <td>N</td>\n",
       "    </tr>\n",
       "    <tr>\n",
       "      <th>16809</th>\n",
       "      <td>36683</td>\n",
       "      <td>12FEB2014</td>\n",
       "      <td>GRD</td>\n",
       "      <td>F</td>\n",
       "      <td>27</td>\n",
       "      <td>Y</td>\n",
       "      <td>Y</td>\n",
       "      <td>0</td>\n",
       "      <td>0</td>\n",
       "      <td>-2.389612</td>\n",
       "      <td>2</td>\n",
       "      <td>50</td>\n",
       "      <td>1</td>\n",
       "      <td>1</td>\n",
       "      <td>60000</td>\n",
       "      <td>1</td>\n",
       "      <td>3</td>\n",
       "      <td>N</td>\n",
       "    </tr>\n",
       "    <tr>\n",
       "      <th>7315</th>\n",
       "      <td>87880</td>\n",
       "      <td>04APR2014</td>\n",
       "      <td>UGR</td>\n",
       "      <td>M</td>\n",
       "      <td>31</td>\n",
       "      <td>Y</td>\n",
       "      <td>Y</td>\n",
       "      <td>0</td>\n",
       "      <td>0</td>\n",
       "      <td>-2.089350</td>\n",
       "      <td>3</td>\n",
       "      <td>40</td>\n",
       "      <td>1</td>\n",
       "      <td>2</td>\n",
       "      <td>60000</td>\n",
       "      <td>2</td>\n",
       "      <td>2</td>\n",
       "      <td>N</td>\n",
       "    </tr>\n",
       "    <tr>\n",
       "      <th>17711</th>\n",
       "      <td>103522</td>\n",
       "      <td>22APR2014</td>\n",
       "      <td>UGR</td>\n",
       "      <td>F</td>\n",
       "      <td>55</td>\n",
       "      <td>Y</td>\n",
       "      <td>N</td>\n",
       "      <td>0</td>\n",
       "      <td>1</td>\n",
       "      <td>-1.815427</td>\n",
       "      <td>7</td>\n",
       "      <td>50</td>\n",
       "      <td>2</td>\n",
       "      <td>3</td>\n",
       "      <td>25000</td>\n",
       "      <td>1</td>\n",
       "      <td>3</td>\n",
       "      <td>N</td>\n",
       "    </tr>\n",
       "    <tr>\n",
       "      <th>26355</th>\n",
       "      <td>81262</td>\n",
       "      <td>29MAR2014</td>\n",
       "      <td>GRD</td>\n",
       "      <td>M</td>\n",
       "      <td>42</td>\n",
       "      <td>N</td>\n",
       "      <td>N</td>\n",
       "      <td>0</td>\n",
       "      <td>0</td>\n",
       "      <td>-1.965302</td>\n",
       "      <td>4</td>\n",
       "      <td>60</td>\n",
       "      <td>2</td>\n",
       "      <td>3</td>\n",
       "      <td>39000</td>\n",
       "      <td>1</td>\n",
       "      <td>3</td>\n",
       "      <td>N</td>\n",
       "    </tr>\n",
       "  </tbody>\n",
       "</table>\n",
       "</div>"
      ],
      "text/plain": [
       "       client_id   app_date education sex  age car car_type  decline_app_cnt  \\\n",
       "23159      97196  14APR2014       UGR   M   31   N        N                0   \n",
       "16809      36683  12FEB2014       GRD   F   27   Y        Y                0   \n",
       "7315       87880  04APR2014       UGR   M   31   Y        Y                0   \n",
       "17711     103522  22APR2014       UGR   F   55   Y        N                0   \n",
       "26355      81262  29MAR2014       GRD   M   42   N        N                0   \n",
       "\n",
       "       good_work  score_bki  bki_request_cnt  region_rating  home_address  \\\n",
       "23159          1  -1.239173                0             80             2   \n",
       "16809          0  -2.389612                2             50             1   \n",
       "7315           0  -2.089350                3             40             1   \n",
       "17711          1  -1.815427                7             50             2   \n",
       "26355          0  -1.965302                4             60             2   \n",
       "\n",
       "       work_address  income  sna  first_time foreign_passport  \n",
       "23159             3   60000    1           3                N  \n",
       "16809             1   60000    1           3                N  \n",
       "7315              2   60000    2           2                N  \n",
       "17711             3   25000    1           3                N  \n",
       "26355             3   39000    1           3                N  "
      ]
     },
     "execution_count": 261,
     "metadata": {},
     "output_type": "execute_result"
    }
   ],
   "source": [
    "test.sample(5)"
   ]
  },
  {
   "cell_type": "code",
   "execution_count": 262,
   "metadata": {},
   "outputs": [
    {
     "data": {
      "text/html": [
       "<div>\n",
       "<style scoped>\n",
       "    .dataframe tbody tr th:only-of-type {\n",
       "        vertical-align: middle;\n",
       "    }\n",
       "\n",
       "    .dataframe tbody tr th {\n",
       "        vertical-align: top;\n",
       "    }\n",
       "\n",
       "    .dataframe thead th {\n",
       "        text-align: right;\n",
       "    }\n",
       "</style>\n",
       "<table border=\"1\" class=\"dataframe\">\n",
       "  <thead>\n",
       "    <tr style=\"text-align: right;\">\n",
       "      <th></th>\n",
       "      <th>client_id</th>\n",
       "      <th>age</th>\n",
       "      <th>decline_app_cnt</th>\n",
       "      <th>good_work</th>\n",
       "      <th>score_bki</th>\n",
       "      <th>bki_request_cnt</th>\n",
       "      <th>region_rating</th>\n",
       "      <th>home_address</th>\n",
       "      <th>work_address</th>\n",
       "      <th>income</th>\n",
       "      <th>sna</th>\n",
       "      <th>first_time</th>\n",
       "      <th>default</th>\n",
       "    </tr>\n",
       "  </thead>\n",
       "  <tbody>\n",
       "    <tr>\n",
       "      <th>count</th>\n",
       "      <td>73799.000000</td>\n",
       "      <td>73799.000000</td>\n",
       "      <td>73799.000000</td>\n",
       "      <td>73799.000000</td>\n",
       "      <td>73799.000000</td>\n",
       "      <td>73799.000000</td>\n",
       "      <td>73799.000000</td>\n",
       "      <td>73799.000000</td>\n",
       "      <td>73799.000000</td>\n",
       "      <td>73799.000000</td>\n",
       "      <td>73799.000000</td>\n",
       "      <td>73799.000000</td>\n",
       "      <td>73799.000000</td>\n",
       "    </tr>\n",
       "    <tr>\n",
       "      <th>mean</th>\n",
       "      <td>55137.965094</td>\n",
       "      <td>39.280641</td>\n",
       "      <td>0.275749</td>\n",
       "      <td>0.164894</td>\n",
       "      <td>-1.904724</td>\n",
       "      <td>2.000339</td>\n",
       "      <td>56.725701</td>\n",
       "      <td>1.575509</td>\n",
       "      <td>2.496280</td>\n",
       "      <td>41099.775417</td>\n",
       "      <td>1.733330</td>\n",
       "      <td>2.765458</td>\n",
       "      <td>0.126994</td>\n",
       "    </tr>\n",
       "    <tr>\n",
       "      <th>std</th>\n",
       "      <td>31841.921168</td>\n",
       "      <td>11.520378</td>\n",
       "      <td>0.804272</td>\n",
       "      <td>0.371087</td>\n",
       "      <td>0.498231</td>\n",
       "      <td>2.252073</td>\n",
       "      <td>13.055717</td>\n",
       "      <td>0.527631</td>\n",
       "      <td>0.689818</td>\n",
       "      <td>46166.322400</td>\n",
       "      <td>1.123622</td>\n",
       "      <td>1.009463</td>\n",
       "      <td>0.332968</td>\n",
       "    </tr>\n",
       "    <tr>\n",
       "      <th>min</th>\n",
       "      <td>1.000000</td>\n",
       "      <td>21.000000</td>\n",
       "      <td>0.000000</td>\n",
       "      <td>0.000000</td>\n",
       "      <td>-3.624586</td>\n",
       "      <td>0.000000</td>\n",
       "      <td>20.000000</td>\n",
       "      <td>1.000000</td>\n",
       "      <td>1.000000</td>\n",
       "      <td>1000.000000</td>\n",
       "      <td>1.000000</td>\n",
       "      <td>1.000000</td>\n",
       "      <td>0.000000</td>\n",
       "    </tr>\n",
       "    <tr>\n",
       "      <th>25%</th>\n",
       "      <td>27440.500000</td>\n",
       "      <td>30.000000</td>\n",
       "      <td>0.000000</td>\n",
       "      <td>0.000000</td>\n",
       "      <td>-2.259534</td>\n",
       "      <td>0.000000</td>\n",
       "      <td>50.000000</td>\n",
       "      <td>1.000000</td>\n",
       "      <td>2.000000</td>\n",
       "      <td>20000.000000</td>\n",
       "      <td>1.000000</td>\n",
       "      <td>2.000000</td>\n",
       "      <td>0.000000</td>\n",
       "    </tr>\n",
       "    <tr>\n",
       "      <th>50%</th>\n",
       "      <td>55274.000000</td>\n",
       "      <td>37.000000</td>\n",
       "      <td>0.000000</td>\n",
       "      <td>0.000000</td>\n",
       "      <td>-1.920823</td>\n",
       "      <td>1.000000</td>\n",
       "      <td>50.000000</td>\n",
       "      <td>2.000000</td>\n",
       "      <td>3.000000</td>\n",
       "      <td>30000.000000</td>\n",
       "      <td>1.000000</td>\n",
       "      <td>3.000000</td>\n",
       "      <td>0.000000</td>\n",
       "    </tr>\n",
       "    <tr>\n",
       "      <th>75%</th>\n",
       "      <td>82758.500000</td>\n",
       "      <td>48.000000</td>\n",
       "      <td>0.000000</td>\n",
       "      <td>0.000000</td>\n",
       "      <td>-1.569831</td>\n",
       "      <td>3.000000</td>\n",
       "      <td>60.000000</td>\n",
       "      <td>2.000000</td>\n",
       "      <td>3.000000</td>\n",
       "      <td>48000.000000</td>\n",
       "      <td>2.000000</td>\n",
       "      <td>4.000000</td>\n",
       "      <td>0.000000</td>\n",
       "    </tr>\n",
       "    <tr>\n",
       "      <th>max</th>\n",
       "      <td>110147.000000</td>\n",
       "      <td>72.000000</td>\n",
       "      <td>33.000000</td>\n",
       "      <td>1.000000</td>\n",
       "      <td>0.199773</td>\n",
       "      <td>53.000000</td>\n",
       "      <td>80.000000</td>\n",
       "      <td>3.000000</td>\n",
       "      <td>3.000000</td>\n",
       "      <td>1000000.000000</td>\n",
       "      <td>4.000000</td>\n",
       "      <td>4.000000</td>\n",
       "      <td>1.000000</td>\n",
       "    </tr>\n",
       "  </tbody>\n",
       "</table>\n",
       "</div>"
      ],
      "text/plain": [
       "           client_id           age  decline_app_cnt     good_work  \\\n",
       "count   73799.000000  73799.000000     73799.000000  73799.000000   \n",
       "mean    55137.965094     39.280641         0.275749      0.164894   \n",
       "std     31841.921168     11.520378         0.804272      0.371087   \n",
       "min         1.000000     21.000000         0.000000      0.000000   \n",
       "25%     27440.500000     30.000000         0.000000      0.000000   \n",
       "50%     55274.000000     37.000000         0.000000      0.000000   \n",
       "75%     82758.500000     48.000000         0.000000      0.000000   \n",
       "max    110147.000000     72.000000        33.000000      1.000000   \n",
       "\n",
       "          score_bki  bki_request_cnt  region_rating  home_address  \\\n",
       "count  73799.000000     73799.000000   73799.000000  73799.000000   \n",
       "mean      -1.904724         2.000339      56.725701      1.575509   \n",
       "std        0.498231         2.252073      13.055717      0.527631   \n",
       "min       -3.624586         0.000000      20.000000      1.000000   \n",
       "25%       -2.259534         0.000000      50.000000      1.000000   \n",
       "50%       -1.920823         1.000000      50.000000      2.000000   \n",
       "75%       -1.569831         3.000000      60.000000      2.000000   \n",
       "max        0.199773        53.000000      80.000000      3.000000   \n",
       "\n",
       "       work_address          income           sna    first_time       default  \n",
       "count  73799.000000    73799.000000  73799.000000  73799.000000  73799.000000  \n",
       "mean       2.496280    41099.775417      1.733330      2.765458      0.126994  \n",
       "std        0.689818    46166.322400      1.123622      1.009463      0.332968  \n",
       "min        1.000000     1000.000000      1.000000      1.000000      0.000000  \n",
       "25%        2.000000    20000.000000      1.000000      2.000000      0.000000  \n",
       "50%        3.000000    30000.000000      1.000000      3.000000      0.000000  \n",
       "75%        3.000000    48000.000000      2.000000      4.000000      0.000000  \n",
       "max        3.000000  1000000.000000      4.000000      4.000000      1.000000  "
      ]
     },
     "execution_count": 262,
     "metadata": {},
     "output_type": "execute_result"
    }
   ],
   "source": [
    "train.describe()"
   ]
  },
  {
   "cell_type": "code",
   "execution_count": 263,
   "metadata": {
    "scrolled": true
   },
   "outputs": [
    {
     "data": {
      "text/html": [
       "<div>\n",
       "<style scoped>\n",
       "    .dataframe tbody tr th:only-of-type {\n",
       "        vertical-align: middle;\n",
       "    }\n",
       "\n",
       "    .dataframe tbody tr th {\n",
       "        vertical-align: top;\n",
       "    }\n",
       "\n",
       "    .dataframe thead th {\n",
       "        text-align: right;\n",
       "    }\n",
       "</style>\n",
       "<table border=\"1\" class=\"dataframe\">\n",
       "  <thead>\n",
       "    <tr style=\"text-align: right;\">\n",
       "      <th></th>\n",
       "      <th>client_id</th>\n",
       "      <th>age</th>\n",
       "      <th>decline_app_cnt</th>\n",
       "      <th>good_work</th>\n",
       "      <th>score_bki</th>\n",
       "      <th>bki_request_cnt</th>\n",
       "      <th>region_rating</th>\n",
       "      <th>home_address</th>\n",
       "      <th>work_address</th>\n",
       "      <th>income</th>\n",
       "      <th>sna</th>\n",
       "      <th>first_time</th>\n",
       "    </tr>\n",
       "  </thead>\n",
       "  <tbody>\n",
       "    <tr>\n",
       "      <th>count</th>\n",
       "      <td>36349.000000</td>\n",
       "      <td>36349.000000</td>\n",
       "      <td>36349.000000</td>\n",
       "      <td>36349.000000</td>\n",
       "      <td>36349.000000</td>\n",
       "      <td>36349.000000</td>\n",
       "      <td>36349.000000</td>\n",
       "      <td>36349.000000</td>\n",
       "      <td>36349.000000</td>\n",
       "      <td>36349.000000</td>\n",
       "      <td>36349.000000</td>\n",
       "      <td>36349.000000</td>\n",
       "    </tr>\n",
       "    <tr>\n",
       "      <th>mean</th>\n",
       "      <td>54945.647473</td>\n",
       "      <td>39.186002</td>\n",
       "      <td>0.268040</td>\n",
       "      <td>0.166772</td>\n",
       "      <td>-1.904152</td>\n",
       "      <td>2.014471</td>\n",
       "      <td>56.802938</td>\n",
       "      <td>1.573798</td>\n",
       "      <td>2.501087</td>\n",
       "      <td>40835.755729</td>\n",
       "      <td>1.728053</td>\n",
       "      <td>2.765798</td>\n",
       "    </tr>\n",
       "    <tr>\n",
       "      <th>std</th>\n",
       "      <td>31706.052195</td>\n",
       "      <td>11.513258</td>\n",
       "      <td>0.788478</td>\n",
       "      <td>0.372777</td>\n",
       "      <td>0.501764</td>\n",
       "      <td>2.296789</td>\n",
       "      <td>13.086646</td>\n",
       "      <td>0.527428</td>\n",
       "      <td>0.683227</td>\n",
       "      <td>43802.180951</td>\n",
       "      <td>1.120686</td>\n",
       "      <td>1.011560</td>\n",
       "    </tr>\n",
       "    <tr>\n",
       "      <th>min</th>\n",
       "      <td>4.000000</td>\n",
       "      <td>21.000000</td>\n",
       "      <td>0.000000</td>\n",
       "      <td>0.000000</td>\n",
       "      <td>-3.574197</td>\n",
       "      <td>0.000000</td>\n",
       "      <td>20.000000</td>\n",
       "      <td>1.000000</td>\n",
       "      <td>1.000000</td>\n",
       "      <td>1000.000000</td>\n",
       "      <td>1.000000</td>\n",
       "      <td>1.000000</td>\n",
       "    </tr>\n",
       "    <tr>\n",
       "      <th>25%</th>\n",
       "      <td>27744.000000</td>\n",
       "      <td>30.000000</td>\n",
       "      <td>0.000000</td>\n",
       "      <td>0.000000</td>\n",
       "      <td>-2.261909</td>\n",
       "      <td>0.000000</td>\n",
       "      <td>50.000000</td>\n",
       "      <td>1.000000</td>\n",
       "      <td>2.000000</td>\n",
       "      <td>20000.000000</td>\n",
       "      <td>1.000000</td>\n",
       "      <td>2.000000</td>\n",
       "    </tr>\n",
       "    <tr>\n",
       "      <th>50%</th>\n",
       "      <td>54657.000000</td>\n",
       "      <td>37.000000</td>\n",
       "      <td>0.000000</td>\n",
       "      <td>0.000000</td>\n",
       "      <td>-1.920823</td>\n",
       "      <td>1.000000</td>\n",
       "      <td>50.000000</td>\n",
       "      <td>2.000000</td>\n",
       "      <td>3.000000</td>\n",
       "      <td>30000.000000</td>\n",
       "      <td>1.000000</td>\n",
       "      <td>3.000000</td>\n",
       "    </tr>\n",
       "    <tr>\n",
       "      <th>75%</th>\n",
       "      <td>82322.000000</td>\n",
       "      <td>48.000000</td>\n",
       "      <td>0.000000</td>\n",
       "      <td>0.000000</td>\n",
       "      <td>-1.563957</td>\n",
       "      <td>3.000000</td>\n",
       "      <td>60.000000</td>\n",
       "      <td>2.000000</td>\n",
       "      <td>3.000000</td>\n",
       "      <td>48000.000000</td>\n",
       "      <td>2.000000</td>\n",
       "      <td>4.000000</td>\n",
       "    </tr>\n",
       "    <tr>\n",
       "      <th>max</th>\n",
       "      <td>110148.000000</td>\n",
       "      <td>71.000000</td>\n",
       "      <td>30.000000</td>\n",
       "      <td>1.000000</td>\n",
       "      <td>0.188820</td>\n",
       "      <td>47.000000</td>\n",
       "      <td>80.000000</td>\n",
       "      <td>3.000000</td>\n",
       "      <td>3.000000</td>\n",
       "      <td>1000000.000000</td>\n",
       "      <td>4.000000</td>\n",
       "      <td>4.000000</td>\n",
       "    </tr>\n",
       "  </tbody>\n",
       "</table>\n",
       "</div>"
      ],
      "text/plain": [
       "           client_id           age  decline_app_cnt     good_work  \\\n",
       "count   36349.000000  36349.000000     36349.000000  36349.000000   \n",
       "mean    54945.647473     39.186002         0.268040      0.166772   \n",
       "std     31706.052195     11.513258         0.788478      0.372777   \n",
       "min         4.000000     21.000000         0.000000      0.000000   \n",
       "25%     27744.000000     30.000000         0.000000      0.000000   \n",
       "50%     54657.000000     37.000000         0.000000      0.000000   \n",
       "75%     82322.000000     48.000000         0.000000      0.000000   \n",
       "max    110148.000000     71.000000        30.000000      1.000000   \n",
       "\n",
       "          score_bki  bki_request_cnt  region_rating  home_address  \\\n",
       "count  36349.000000     36349.000000   36349.000000  36349.000000   \n",
       "mean      -1.904152         2.014471      56.802938      1.573798   \n",
       "std        0.501764         2.296789      13.086646      0.527428   \n",
       "min       -3.574197         0.000000      20.000000      1.000000   \n",
       "25%       -2.261909         0.000000      50.000000      1.000000   \n",
       "50%       -1.920823         1.000000      50.000000      2.000000   \n",
       "75%       -1.563957         3.000000      60.000000      2.000000   \n",
       "max        0.188820        47.000000      80.000000      3.000000   \n",
       "\n",
       "       work_address          income           sna    first_time  \n",
       "count  36349.000000    36349.000000  36349.000000  36349.000000  \n",
       "mean       2.501087    40835.755729      1.728053      2.765798  \n",
       "std        0.683227    43802.180951      1.120686      1.011560  \n",
       "min        1.000000     1000.000000      1.000000      1.000000  \n",
       "25%        2.000000    20000.000000      1.000000      2.000000  \n",
       "50%        3.000000    30000.000000      1.000000      3.000000  \n",
       "75%        3.000000    48000.000000      2.000000      4.000000  \n",
       "max        3.000000  1000000.000000      4.000000      4.000000  "
      ]
     },
     "execution_count": 263,
     "metadata": {},
     "output_type": "execute_result"
    }
   ],
   "source": [
    "test.describe()"
   ]
  },
  {
   "cell_type": "markdown",
   "metadata": {},
   "source": [
    "# Предобработка данных¶"
   ]
  },
  {
   "cell_type": "code",
   "execution_count": 264,
   "metadata": {},
   "outputs": [
    {
     "data": {
      "text/plain": [
       "0    64427\n",
       "1     9372\n",
       "Name: default, dtype: int64"
      ]
     },
     "execution_count": 264,
     "metadata": {},
     "output_type": "execute_result"
    }
   ],
   "source": [
    "# Посмотрим на рапределение целевой переменной\n",
    "train.default.value_counts()"
   ]
  },
  {
   "cell_type": "code",
   "execution_count": 265,
   "metadata": {},
   "outputs": [
    {
     "data": {
      "text/plain": [
       "<AxesSubplot:xlabel='default', ylabel='count'>"
      ]
     },
     "execution_count": 265,
     "metadata": {},
     "output_type": "execute_result"
    },
    {
     "data": {
      "image/png": "[encoded data removed]",
      "text/plain": [
       "<Figure size 432x288 with 1 Axes>"
      ]
     },
     "metadata": {
      "needs_background": "light"
     },
     "output_type": "display_data"
    }
   ],
   "source": [
    "sns.countplot(x='default', data=train)"
   ]
  },
  {
   "cell_type": "code",
   "execution_count": 266,
   "metadata": {},
   "outputs": [
    {
     "data": {
      "text/plain": [
       "client_id             0\n",
       "app_date              0\n",
       "education           307\n",
       "sex                   0\n",
       "age                   0\n",
       "car                   0\n",
       "car_type              0\n",
       "decline_app_cnt       0\n",
       "good_work             0\n",
       "score_bki             0\n",
       "bki_request_cnt       0\n",
       "region_rating         0\n",
       "home_address          0\n",
       "work_address          0\n",
       "income                0\n",
       "sna                   0\n",
       "first_time            0\n",
       "foreign_passport      0\n",
       "default               0\n",
       "dtype: int64"
      ]
     },
     "execution_count": 266,
     "metadata": {},
     "output_type": "execute_result"
    }
   ],
   "source": [
    "# Количество пропусков в обучающей базе\n",
    "train.isna().sum()"
   ]
  },
  {
   "cell_type": "code",
   "execution_count": 267,
   "metadata": {},
   "outputs": [
    {
     "data": {
      "text/plain": [
       "client_id             0\n",
       "app_date              0\n",
       "education           171\n",
       "sex                   0\n",
       "age                   0\n",
       "car                   0\n",
       "car_type              0\n",
       "decline_app_cnt       0\n",
       "good_work             0\n",
       "score_bki             0\n",
       "bki_request_cnt       0\n",
       "region_rating         0\n",
       "home_address          0\n",
       "work_address          0\n",
       "income                0\n",
       "sna                   0\n",
       "first_time            0\n",
       "foreign_passport      0\n",
       "dtype: int64"
      ]
     },
     "execution_count": 267,
     "metadata": {},
     "output_type": "execute_result"
    }
   ],
   "source": [
    "# Количество пропусков в тестовой базе\n",
    "test.isna().sum()"
   ]
  },
  {
   "cell_type": "code",
   "execution_count": 268,
   "metadata": {},
   "outputs": [],
   "source": [
    "# Заполняем пропуски в образовании наиболее часто втсречающимся значением\n",
    "train['education'].fillna(train['education'].mode, inplace=True)\n",
    "test['education'].fillna(test['education'].mode, inplace=True)"
   ]
  },
  {
   "cell_type": "code",
   "execution_count": 269,
   "metadata": {},
   "outputs": [
    {
     "data": {
      "text/plain": [
       "Index(['client_id', 'app_date', 'education', 'sex', 'age', 'car', 'car_type',\n",
       "       'decline_app_cnt', 'good_work', 'score_bki', 'bki_request_cnt',\n",
       "       'region_rating', 'home_address', 'work_address', 'income', 'sna',\n",
       "       'first_time', 'foreign_passport', 'default'],\n",
       "      dtype='object')"
      ]
     },
     "execution_count": 269,
     "metadata": {},
     "output_type": "execute_result"
    }
   ],
   "source": [
    "# Выведем наименования всех признаков обучающей базы\n",
    "train.columns"
   ]
  },
  {
   "cell_type": "code",
   "execution_count": 270,
   "metadata": {},
   "outputs": [],
   "source": [
    "#Разбиваем признаки на 3 списка (искл. client_id, app_date)\n",
    "\n",
    "num_cols = ['age', 'decline_app_cnt', 'bki_request_cnt', 'income', 'score_bki', 'region_rating']\n",
    "\n",
    "# категориальные\n",
    "cat_cols = ['education', 'work_address', 'home_address', 'sna', 'first_time']\n",
    "\n",
    "# бинарные\n",
    "bin_cols = ['sex', 'car', 'car_type', 'good_work', 'foreign_passport']"
   ]
  },
  {
   "cell_type": "markdown",
   "metadata": {},
   "source": [
    "# Числовые признаки"
   ]
  },
  {
   "cell_type": "code",
   "execution_count": 271,
   "metadata": {},
   "outputs": [
    {
     "data": {
      "image/png": "[encoded data removed]",
      "text/plain": [
       "<Figure size 432x288 with 1 Axes>"
      ]
     },
     "metadata": {
      "needs_background": "light"
     },
     "output_type": "display_data"
    },
    {
     "data": {
      "image/png": "[encoded data removed]",
      "text/plain": [
       "<Figure size 432x288 with 1 Axes>"
      ]
     },
     "metadata": {
      "needs_background": "light"
     },
     "output_type": "display_data"
    },
    {
     "data": {
      "image/png": "[encoded data removed]",
      "text/plain": [
       "<Figure size 432x288 with 1 Axes>"
      ]
     },
     "metadata": {
      "needs_background": "light"
     },
     "output_type": "display_data"
    },
    {
     "data": {
      "image/png": "[encoded data removed]",
      "text/plain": [
       "<Figure size 432x288 with 1 Axes>"
      ]
     },
     "metadata": {
      "needs_background": "light"
     },
     "output_type": "display_data"
    },
    {
     "data": {
      "image/png": "[encoded data removed]",
      "text/plain": [
       "<Figure size 432x288 with 1 Axes>"
      ]
     },
     "metadata": {
      "needs_background": "light"
     },
     "output_type": "display_data"
    },
    {
     "data": {
      "image/png": "[encoded data removed]",
      "text/plain": [
       "<Figure size 432x288 with 1 Axes>"
      ]
     },
     "metadata": {
      "needs_background": "light"
     },
     "output_type": "display_data"
    }
   ],
   "source": [
    "# Графики распределений числовых признаков\n",
    "for i in num_cols:\n",
    "    plt.figure()\n",
    "    sns.distplot(train[i][train[i] > 0].dropna(), kde = False, rug=False)\n",
    "    plt.title(i)\n",
    "    plt.show()"
   ]
  },
  {
   "cell_type": "markdown",
   "metadata": {},
   "source": [
    "В блоке Feature Engineering прологарифмируем численные переменные, распределение которых смещено."
   ]
  },
  {
   "cell_type": "code",
   "execution_count": 272,
   "metadata": {},
   "outputs": [
    {
     "data": {
      "text/plain": [
       "<AxesSubplot:>"
      ]
     },
     "execution_count": 272,
     "metadata": {},
     "output_type": "execute_result"
    },
    {
     "data": {
      "image/png": "[encoded data removed]",
      "text/plain": [
       "<Figure size 432x288 with 2 Axes>"
      ]
     },
     "metadata": {
      "needs_background": "light"
     },
     "output_type": "display_data"
    }
   ],
   "source": [
    "# Посмотрим на тепловую карту числовых признаков\n",
    "sns.heatmap(train[num_cols].corr().abs(), vmin=0, vmax=1, annot = True)"
   ]
  },
  {
   "cell_type": "markdown",
   "metadata": {},
   "source": [
    "Очевидно, что все выбранные признаки слабо коррелируют друг с другом."
   ]
  },
  {
   "cell_type": "code",
   "execution_count": 273,
   "metadata": {},
   "outputs": [
    {
     "data": {
      "text/plain": [
       "<AxesSubplot:>"
      ]
     },
     "execution_count": 273,
     "metadata": {},
     "output_type": "execute_result"
    },
    {
     "data": {
      "image/png": "[encoded data removed]",
      "text/plain": [
       "<Figure size 432x288 with 1 Axes>"
      ]
     },
     "metadata": {
      "needs_background": "light"
     },
     "output_type": "display_data"
    }
   ],
   "source": [
    "# Посмотрим значимость числовых признаков\n",
    "imp_num = pd.Series(f_classif(train[num_cols], train['default'])[0], index = num_cols)\n",
    "imp_num.sort_values(inplace = True)\n",
    "imp_num.plot(kind = 'barh')"
   ]
  },
  {
   "cell_type": "markdown",
   "metadata": {},
   "source": [
    "# Бинарные и категориальные признаки"
   ]
  },
  {
   "cell_type": "code",
   "execution_count": 274,
   "metadata": {},
   "outputs": [],
   "source": [
    "# Для бинарных признаков мы будем использовать LabelEncoder, чтобы избавится от строковых значений\n",
    "\n",
    "label_encoder = LabelEncoder()\n",
    "\n",
    "for column in bin_cols:\n",
    "    train[column] = label_encoder.fit_transform(train[column])\n",
    "    \n",
    "for column in bin_cols:\n",
    "    test[column] = label_encoder.fit_transform(test[column])"
   ]
  },
  {
   "cell_type": "code",
   "execution_count": 275,
   "metadata": {},
   "outputs": [],
   "source": [
    "# Заменим значения признака education числами в обучающей базе\n",
    "train.education = pd.Categorical(train.education)\n",
    "train['education'] = train['education'].cat.codes"
   ]
  },
  {
   "cell_type": "code",
   "execution_count": 276,
   "metadata": {},
   "outputs": [
    {
     "data": {
      "text/html": [
       "<div>\n",
       "<style scoped>\n",
       "    .dataframe tbody tr th:only-of-type {\n",
       "        vertical-align: middle;\n",
       "    }\n",
       "\n",
       "    .dataframe tbody tr th {\n",
       "        vertical-align: top;\n",
       "    }\n",
       "\n",
       "    .dataframe thead th {\n",
       "        text-align: right;\n",
       "    }\n",
       "</style>\n",
       "<table border=\"1\" class=\"dataframe\">\n",
       "  <thead>\n",
       "    <tr style=\"text-align: right;\">\n",
       "      <th></th>\n",
       "      <th>client_id</th>\n",
       "      <th>app_date</th>\n",
       "      <th>education</th>\n",
       "      <th>sex</th>\n",
       "      <th>age</th>\n",
       "      <th>car</th>\n",
       "      <th>car_type</th>\n",
       "      <th>decline_app_cnt</th>\n",
       "      <th>good_work</th>\n",
       "      <th>score_bki</th>\n",
       "      <th>bki_request_cnt</th>\n",
       "      <th>region_rating</th>\n",
       "      <th>home_address</th>\n",
       "      <th>work_address</th>\n",
       "      <th>income</th>\n",
       "      <th>sna</th>\n",
       "      <th>first_time</th>\n",
       "      <th>foreign_passport</th>\n",
       "      <th>default</th>\n",
       "    </tr>\n",
       "  </thead>\n",
       "  <tbody>\n",
       "    <tr>\n",
       "      <th>55752</th>\n",
       "      <td>89752</td>\n",
       "      <td>06APR2014</td>\n",
       "      <td>4</td>\n",
       "      <td>0</td>\n",
       "      <td>55</td>\n",
       "      <td>0</td>\n",
       "      <td>0</td>\n",
       "      <td>0</td>\n",
       "      <td>0</td>\n",
       "      <td>-1.694850</td>\n",
       "      <td>10</td>\n",
       "      <td>40</td>\n",
       "      <td>2</td>\n",
       "      <td>3</td>\n",
       "      <td>26000</td>\n",
       "      <td>4</td>\n",
       "      <td>1</td>\n",
       "      <td>0</td>\n",
       "      <td>0</td>\n",
       "    </tr>\n",
       "    <tr>\n",
       "      <th>68012</th>\n",
       "      <td>99166</td>\n",
       "      <td>16APR2014</td>\n",
       "      <td>2</td>\n",
       "      <td>1</td>\n",
       "      <td>56</td>\n",
       "      <td>1</td>\n",
       "      <td>0</td>\n",
       "      <td>0</td>\n",
       "      <td>0</td>\n",
       "      <td>-2.353052</td>\n",
       "      <td>0</td>\n",
       "      <td>40</td>\n",
       "      <td>2</td>\n",
       "      <td>3</td>\n",
       "      <td>40000</td>\n",
       "      <td>1</td>\n",
       "      <td>4</td>\n",
       "      <td>0</td>\n",
       "      <td>0</td>\n",
       "    </tr>\n",
       "    <tr>\n",
       "      <th>6553</th>\n",
       "      <td>9375</td>\n",
       "      <td>16JAN2014</td>\n",
       "      <td>4</td>\n",
       "      <td>1</td>\n",
       "      <td>39</td>\n",
       "      <td>0</td>\n",
       "      <td>0</td>\n",
       "      <td>0</td>\n",
       "      <td>0</td>\n",
       "      <td>-1.776422</td>\n",
       "      <td>1</td>\n",
       "      <td>80</td>\n",
       "      <td>2</td>\n",
       "      <td>3</td>\n",
       "      <td>81000</td>\n",
       "      <td>1</td>\n",
       "      <td>1</td>\n",
       "      <td>1</td>\n",
       "      <td>0</td>\n",
       "    </tr>\n",
       "    <tr>\n",
       "      <th>61001</th>\n",
       "      <td>32834</td>\n",
       "      <td>09FEB2014</td>\n",
       "      <td>2</td>\n",
       "      <td>0</td>\n",
       "      <td>54</td>\n",
       "      <td>0</td>\n",
       "      <td>0</td>\n",
       "      <td>0</td>\n",
       "      <td>1</td>\n",
       "      <td>-2.051345</td>\n",
       "      <td>3</td>\n",
       "      <td>50</td>\n",
       "      <td>1</td>\n",
       "      <td>1</td>\n",
       "      <td>9000</td>\n",
       "      <td>1</td>\n",
       "      <td>3</td>\n",
       "      <td>0</td>\n",
       "      <td>0</td>\n",
       "    </tr>\n",
       "    <tr>\n",
       "      <th>60714</th>\n",
       "      <td>26471</td>\n",
       "      <td>02FEB2014</td>\n",
       "      <td>4</td>\n",
       "      <td>0</td>\n",
       "      <td>59</td>\n",
       "      <td>1</td>\n",
       "      <td>1</td>\n",
       "      <td>0</td>\n",
       "      <td>0</td>\n",
       "      <td>-1.686698</td>\n",
       "      <td>3</td>\n",
       "      <td>50</td>\n",
       "      <td>1</td>\n",
       "      <td>2</td>\n",
       "      <td>55000</td>\n",
       "      <td>1</td>\n",
       "      <td>3</td>\n",
       "      <td>0</td>\n",
       "      <td>0</td>\n",
       "    </tr>\n",
       "  </tbody>\n",
       "</table>\n",
       "</div>"
      ],
      "text/plain": [
       "       client_id   app_date  education  sex  age  car  car_type  \\\n",
       "55752      89752  06APR2014          4    0   55    0         0   \n",
       "68012      99166  16APR2014          2    1   56    1         0   \n",
       "6553        9375  16JAN2014          4    1   39    0         0   \n",
       "61001      32834  09FEB2014          2    0   54    0         0   \n",
       "60714      26471  02FEB2014          4    0   59    1         1   \n",
       "\n",
       "       decline_app_cnt  good_work  score_bki  bki_request_cnt  region_rating  \\\n",
       "55752                0          0  -1.694850               10             40   \n",
       "68012                0          0  -2.353052                0             40   \n",
       "6553                 0          0  -1.776422                1             80   \n",
       "61001                0          1  -2.051345                3             50   \n",
       "60714                0          0  -1.686698                3             50   \n",
       "\n",
       "       home_address  work_address  income  sna  first_time  foreign_passport  \\\n",
       "55752             2             3   26000    4           1                 0   \n",
       "68012             2             3   40000    1           4                 0   \n",
       "6553              2             3   81000    1           1                 1   \n",
       "61001             1             1    9000    1           3                 0   \n",
       "60714             1             2   55000    1           3                 0   \n",
       "\n",
       "       default  \n",
       "55752        0  \n",
       "68012        0  \n",
       "6553         0  \n",
       "61001        0  \n",
       "60714        0  "
      ]
     },
     "execution_count": 276,
     "metadata": {},
     "output_type": "execute_result"
    }
   ],
   "source": [
    "# посмотрим как выглядит обучающая база после изменений\n",
    "train.sample(5)"
   ]
  },
  {
   "cell_type": "code",
   "execution_count": 277,
   "metadata": {},
   "outputs": [
    {
     "data": {
      "text/plain": [
       "4    38860\n",
       "2    23365\n",
       "5     9816\n",
       "3     1257\n",
       "0      307\n",
       "1      194\n",
       "Name: education, dtype: int64"
      ]
     },
     "execution_count": 277,
     "metadata": {},
     "output_type": "execute_result"
    }
   ],
   "source": [
    "train.education.value_counts()"
   ]
  },
  {
   "cell_type": "code",
   "execution_count": 278,
   "metadata": {},
   "outputs": [],
   "source": [
    "# Сделаем тоже самое для тестовой базы\n",
    "test.education = pd.Categorical(test.education)\n",
    "test['education'] = test['education'].cat.codes"
   ]
  },
  {
   "cell_type": "code",
   "execution_count": 279,
   "metadata": {},
   "outputs": [
    {
     "data": {
      "text/plain": [
       "4    19138\n",
       "2    11403\n",
       "5     4932\n",
       "3      608\n",
       "0      171\n",
       "1       97\n",
       "Name: education, dtype: int64"
      ]
     },
     "execution_count": 279,
     "metadata": {},
     "output_type": "execute_result"
    }
   ],
   "source": [
    "test.education.value_counts()"
   ]
  },
  {
   "cell_type": "markdown",
   "metadata": {},
   "source": [
    "# Немного поработает с датами"
   ]
  },
  {
   "cell_type": "code",
   "execution_count": 280,
   "metadata": {},
   "outputs": [],
   "source": [
    "# Переведем даты из признака app_date к типу datetime \n",
    "train.app_date = pd.to_datetime(train.app_date)\n",
    "test.app_date = pd.to_datetime(test.app_date)"
   ]
  },
  {
   "cell_type": "code",
   "execution_count": 281,
   "metadata": {},
   "outputs": [
    {
     "data": {
      "text/plain": [
       "2014    73799\n",
       "Name: app_date, dtype: int64"
      ]
     },
     "execution_count": 281,
     "metadata": {},
     "output_type": "execute_result"
    }
   ],
   "source": [
    "# Посмотрим количество уникальных годов в признаке app_date обучающей базы\n",
    "train.app_date.apply(lambda x: x.year).value_counts()"
   ]
  },
  {
   "cell_type": "code",
   "execution_count": 282,
   "metadata": {},
   "outputs": [
    {
     "data": {
      "text/plain": [
       "2014    36349\n",
       "Name: app_date, dtype: int64"
      ]
     },
     "execution_count": 282,
     "metadata": {},
     "output_type": "execute_result"
    }
   ],
   "source": [
    "# Посмотрим количество уникальных годов в признаке app_date тестовой базы\n",
    "test.app_date.apply(lambda x: x.year).value_counts()"
   ]
  },
  {
   "cell_type": "code",
   "execution_count": 283,
   "metadata": {},
   "outputs": [
    {
     "data": {
      "text/plain": [
       "3    21178\n",
       "2    18028\n",
       "4    17683\n",
       "1    16910\n",
       "Name: app_date, dtype: int64"
      ]
     },
     "execution_count": 283,
     "metadata": {},
     "output_type": "execute_result"
    }
   ],
   "source": [
    "# Посмотрим количество уникальных месяцев в признаке app_date обучающей базы\n",
    "train.app_date.apply(lambda x: x.month).value_counts()"
   ]
  },
  {
   "cell_type": "code",
   "execution_count": 284,
   "metadata": {},
   "outputs": [
    {
     "data": {
      "text/plain": [
       "3    10419\n",
       "2     9069\n",
       "4     8583\n",
       "1     8278\n",
       "Name: app_date, dtype: int64"
      ]
     },
     "execution_count": 284,
     "metadata": {},
     "output_type": "execute_result"
    }
   ],
   "source": [
    "# Посмотрим количество уникальных месяцев в признаке app_date тестовой базы\n",
    "test.app_date.apply(lambda x: x.month).value_counts()"
   ]
  },
  {
   "cell_type": "markdown",
   "metadata": {},
   "source": [
    "# Добавление новых признаков (Feature engineering)"
   ]
  },
  {
   "cell_type": "code",
   "execution_count": 285,
   "metadata": {},
   "outputs": [],
   "source": [
    "# Новый признак месяца подачи заявления на кредит\n",
    "train['month'] = train.app_date.apply(lambda x: x.month)\n",
    "test['month'] = train.app_date.apply(lambda x: x.month)\n",
    "\n",
    "cat_cols.append('month')"
   ]
  },
  {
   "cell_type": "code",
   "execution_count": 286,
   "metadata": {},
   "outputs": [],
   "source": [
    "# Новый признак количество дней между датой подачи заявления на кредит и датой первой подачи в базе\n",
    "train['days'] = (train.app_date - train.app_date.min()).dt.days\n",
    "test['days'] = (test.app_date - test.app_date.min()).dt.days\n",
    "\n",
    "num_cols.append('days')"
   ]
  },
  {
   "cell_type": "markdown",
   "metadata": {},
   "source": [
    "# Попробуем перевести часть признаков из числовых в категориальные"
   ]
  },
  {
   "cell_type": "code",
   "execution_count": 287,
   "metadata": {},
   "outputs": [
    {
     "data": {
      "text/plain": [
       "0     61214\n",
       "1      8397\n",
       "2      2468\n",
       "3       903\n",
       "4       414\n",
       "5       165\n",
       "6       113\n",
       "7        48\n",
       "9        24\n",
       "8        19\n",
       "10       11\n",
       "11        9\n",
       "13        3\n",
       "12        2\n",
       "14        2\n",
       "16        2\n",
       "24        1\n",
       "15        1\n",
       "19        1\n",
       "22        1\n",
       "33        1\n",
       "Name: decline_app_cnt, dtype: int64"
      ]
     },
     "execution_count": 287,
     "metadata": {},
     "output_type": "execute_result"
    }
   ],
   "source": [
    "#Посмотрим на распределение значений decline_app_cnt в обучающей выборке\n",
    "train.decline_app_cnt.value_counts()"
   ]
  },
  {
   "cell_type": "code",
   "execution_count": 288,
   "metadata": {},
   "outputs": [],
   "source": [
    "# изменим значения признака decline_app_cnt, которые встречаются наиболее редко, единственным значением\n",
    "train['decline_app_cnt'] = train['decline_app_cnt'].apply(lambda x: 4 if x > 4 else x)\n",
    "test['decline_app_cnt'] = test['decline_app_cnt'].apply(lambda x: 4 if x > 4 else x)"
   ]
  },
  {
   "cell_type": "code",
   "execution_count": 289,
   "metadata": {},
   "outputs": [
    {
     "data": {
      "text/plain": [
       "0    61214\n",
       "1     8397\n",
       "2     2468\n",
       "3      903\n",
       "4      817\n",
       "Name: decline_app_cnt, dtype: int64"
      ]
     },
     "execution_count": 289,
     "metadata": {},
     "output_type": "execute_result"
    }
   ],
   "source": [
    "train.decline_app_cnt.value_counts()"
   ]
  },
  {
   "cell_type": "code",
   "execution_count": 290,
   "metadata": {},
   "outputs": [
    {
     "data": {
      "text/plain": [
       "0     19381\n",
       "1     18276\n",
       "2     13749\n",
       "3      9187\n",
       "4      5627\n",
       "5      3268\n",
       "6      1704\n",
       "7       852\n",
       "8       508\n",
       "9       299\n",
       "10      225\n",
       "11      188\n",
       "12      144\n",
       "13       94\n",
       "14       86\n",
       "15       54\n",
       "16       35\n",
       "18       22\n",
       "17       19\n",
       "19       18\n",
       "21       12\n",
       "24       11\n",
       "20        9\n",
       "23        7\n",
       "28        4\n",
       "22        4\n",
       "32        2\n",
       "27        2\n",
       "26        2\n",
       "25        2\n",
       "46        1\n",
       "29        1\n",
       "33        1\n",
       "34        1\n",
       "36        1\n",
       "41        1\n",
       "45        1\n",
       "53        1\n",
       "Name: bki_request_cnt, dtype: int64"
      ]
     },
     "execution_count": 290,
     "metadata": {},
     "output_type": "execute_result"
    }
   ],
   "source": [
    "# тоже самое проделаем с признаком bki_request_cnt\n",
    "train.bki_request_cnt.value_counts()"
   ]
  },
  {
   "cell_type": "code",
   "execution_count": 291,
   "metadata": {},
   "outputs": [],
   "source": [
    "train['bki_request_cnt'] = train['bki_request_cnt'].apply(lambda x: 6 if x > 6 else x)\n",
    "test['bki_request_cnt'] = test['bki_request_cnt'].apply(lambda x: 6 if x > 6 else x)"
   ]
  },
  {
   "cell_type": "code",
   "execution_count": 292,
   "metadata": {},
   "outputs": [
    {
     "data": {
      "text/plain": [
       "0    19381\n",
       "1    18276\n",
       "2    13749\n",
       "3     9187\n",
       "4     5627\n",
       "6     4311\n",
       "5     3268\n",
       "Name: bki_request_cnt, dtype: int64"
      ]
     },
     "execution_count": 292,
     "metadata": {},
     "output_type": "execute_result"
    }
   ],
   "source": [
    "train.bki_request_cnt.value_counts()"
   ]
  },
  {
   "cell_type": "code",
   "execution_count": 293,
   "metadata": {},
   "outputs": [],
   "source": [
    "num_cols.remove('decline_app_cnt')\n",
    "cat_cols.append('decline_app_cnt')"
   ]
  },
  {
   "cell_type": "code",
   "execution_count": 294,
   "metadata": {},
   "outputs": [],
   "source": [
    "num_cols.remove('bki_request_cnt')\n",
    "cat_cols.append('bki_request_cnt')"
   ]
  },
  {
   "cell_type": "code",
   "execution_count": 295,
   "metadata": {},
   "outputs": [],
   "source": [
    "#логорифмируем числовые признаки\n",
    "num_cols_log = ['age', 'income']\n",
    "\n",
    "for i in num_cols_log:\n",
    "    train[i] = np.log(train[i] + 1)\n",
    "    \n",
    "    \n",
    "for i in num_cols_log:\n",
    "    test[i] = np.log(test[i] + 1)"
   ]
  },
  {
   "cell_type": "markdown",
   "metadata": {},
   "source": [
    "# Визуализация и значимость признаков"
   ]
  },
  {
   "cell_type": "code",
   "execution_count": 296,
   "metadata": {},
   "outputs": [
    {
     "data": {
      "image/png": "[encoded data removed]",
      "text/plain": [
       "<Figure size 432x288 with 1 Axes>"
      ]
     },
     "metadata": {
      "needs_background": "light"
     },
     "output_type": "display_data"
    },
    {
     "data": {
      "image/png": "[encoded data removed]",
      "text/plain": [
       "<Figure size 432x288 with 1 Axes>"
      ]
     },
     "metadata": {
      "needs_background": "light"
     },
     "output_type": "display_data"
    },
    {
     "data": {
      "image/png": "[encoded data removed]",
      "text/plain": [
       "<Figure size 432x288 with 1 Axes>"
      ]
     },
     "metadata": {
      "needs_background": "light"
     },
     "output_type": "display_data"
    },
    {
     "data": {
      "image/png": "[encoded data removed]",
      "text/plain": [
       "<Figure size 432x288 with 1 Axes>"
      ]
     },
     "metadata": {
      "needs_background": "light"
     },
     "output_type": "display_data"
    },
    {
     "data": {
      "image/png": "[encoded data removed]",
      "text/plain": [
       "<Figure size 432x288 with 1 Axes>"
      ]
     },
     "metadata": {
      "needs_background": "light"
     },
     "output_type": "display_data"
    }
   ],
   "source": [
    "# Посмотрим на диаграмму распределения бинарных признаков\n",
    "for column in bin_cols:\n",
    "    plt.figure()\n",
    "    sns.countplot(train[column])\n",
    "    plt.title(column)\n",
    "    plt.show()"
   ]
  },
  {
   "cell_type": "code",
   "execution_count": 297,
   "metadata": {},
   "outputs": [
    {
     "data": {
      "image/png": "[encoded data removed]",
      "text/plain": [
       "<Figure size 432x288 with 1 Axes>"
      ]
     },
     "metadata": {
      "needs_background": "light"
     },
     "output_type": "display_data"
    },
    {
     "data": {
      "image/png": "[encoded data removed]",
      "text/plain": [
       "<Figure size 432x288 with 1 Axes>"
      ]
     },
     "metadata": {
      "needs_background": "light"
     },
     "output_type": "display_data"
    },
    {
     "data": {
      "image/png": "[encoded data removed]",
      "text/plain": [
       "<Figure size 432x288 with 1 Axes>"
      ]
     },
     "metadata": {
      "needs_background": "light"
     },
     "output_type": "display_data"
    },
    {
     "data": {
      "image/png": "[encoded data removed]",
      "text/plain": [
       "<Figure size 432x288 with 1 Axes>"
      ]
     },
     "metadata": {
      "needs_background": "light"
     },
     "output_type": "display_data"
    },
    {
     "data": {
      "image/png": "[encoded data removed]",
      "text/plain": [
       "<Figure size 432x288 with 1 Axes>"
      ]
     },
     "metadata": {
      "needs_background": "light"
     },
     "output_type": "display_data"
    }
   ],
   "source": [
    "# boxplots числовых признаков\n",
    "for column in num_cols:\n",
    "    plt.figure()\n",
    "    sns.boxplot(x=train['default'], y=train[column])\n",
    "    plt.title(column)\n",
    "    plt.show()"
   ]
  },
  {
   "cell_type": "code",
   "execution_count": 298,
   "metadata": {},
   "outputs": [
    {
     "data": {
      "text/plain": [
       "<AxesSubplot:>"
      ]
     },
     "execution_count": 298,
     "metadata": {},
     "output_type": "execute_result"
    },
    {
     "data": {
      "image/png": "[encoded data removed]",
      "text/plain": [
       "<Figure size 432x288 with 1 Axes>"
      ]
     },
     "metadata": {
      "needs_background": "light"
     },
     "output_type": "display_data"
    }
   ],
   "source": [
    "# Значимость бинарных и категориальных переменных\n",
    "imp_cat = Series(mutual_info_classif(train[bin_cols + cat_cols], train['default'],\n",
    "                                     discrete_features =True), index = bin_cols + cat_cols)\n",
    "imp_cat.sort_values(inplace = True)\n",
    "imp_cat.plot(kind = 'barh')"
   ]
  },
  {
   "cell_type": "code",
   "execution_count": 299,
   "metadata": {},
   "outputs": [
    {
     "data": {
      "text/plain": [
       "Text(0.5, 0, 'F-value')"
      ]
     },
     "execution_count": 299,
     "metadata": {},
     "output_type": "execute_result"
    },
    {
     "data": {
      "image/png": "[encoded data removed]",
      "text/plain": [
       "<Figure size 432x288 with 1 Axes>"
      ]
     },
     "metadata": {
      "needs_background": "light"
     },
     "output_type": "display_data"
    }
   ],
   "source": [
    "# еще раз посмотрим на значимость числовых переменных\n",
    "imp_num = Series(f_classif(train[num_cols], train['default'])[0],\n",
    "                 index=num_cols)\n",
    "imp_num.sort_values(inplace=True)\n",
    "imp_num.plot(kind='barh')\n",
    "plt.xlabel('F-value')"
   ]
  },
  {
   "cell_type": "code",
   "execution_count": 300,
   "metadata": {},
   "outputs": [
    {
     "data": {
      "text/html": [
       "<style  type=\"text/css\" >\n",
       "#T_330c6638_b4e1_11eb_8cd1_3c970ecec0b4row0_col0,#T_330c6638_b4e1_11eb_8cd1_3c970ecec0b4row1_col1,#T_330c6638_b4e1_11eb_8cd1_3c970ecec0b4row2_col2,#T_330c6638_b4e1_11eb_8cd1_3c970ecec0b4row3_col3,#T_330c6638_b4e1_11eb_8cd1_3c970ecec0b4row4_col4,#T_330c6638_b4e1_11eb_8cd1_3c970ecec0b4row5_col5,#T_330c6638_b4e1_11eb_8cd1_3c970ecec0b4row6_col6,#T_330c6638_b4e1_11eb_8cd1_3c970ecec0b4row7_col7,#T_330c6638_b4e1_11eb_8cd1_3c970ecec0b4row8_col8,#T_330c6638_b4e1_11eb_8cd1_3c970ecec0b4row9_col9,#T_330c6638_b4e1_11eb_8cd1_3c970ecec0b4row10_col10,#T_330c6638_b4e1_11eb_8cd1_3c970ecec0b4row11_col11,#T_330c6638_b4e1_11eb_8cd1_3c970ecec0b4row12_col12,#T_330c6638_b4e1_11eb_8cd1_3c970ecec0b4row13_col13,#T_330c6638_b4e1_11eb_8cd1_3c970ecec0b4row14_col14,#T_330c6638_b4e1_11eb_8cd1_3c970ecec0b4row15_col15,#T_330c6638_b4e1_11eb_8cd1_3c970ecec0b4row16_col16,#T_330c6638_b4e1_11eb_8cd1_3c970ecec0b4row17_col17{\n",
       "            background-color:  #313695;\n",
       "            color:  #f1f1f1;\n",
       "        }#T_330c6638_b4e1_11eb_8cd1_3c970ecec0b4row0_col1,#T_330c6638_b4e1_11eb_8cd1_3c970ecec0b4row0_col7,#T_330c6638_b4e1_11eb_8cd1_3c970ecec0b4row1_col0,#T_330c6638_b4e1_11eb_8cd1_3c970ecec0b4row1_col4,#T_330c6638_b4e1_11eb_8cd1_3c970ecec0b4row1_col5,#T_330c6638_b4e1_11eb_8cd1_3c970ecec0b4row1_col6,#T_330c6638_b4e1_11eb_8cd1_3c970ecec0b4row1_col8,#T_330c6638_b4e1_11eb_8cd1_3c970ecec0b4row4_col1,#T_330c6638_b4e1_11eb_8cd1_3c970ecec0b4row6_col16,#T_330c6638_b4e1_11eb_8cd1_3c970ecec0b4row6_col17,#T_330c6638_b4e1_11eb_8cd1_3c970ecec0b4row12_col2,#T_330c6638_b4e1_11eb_8cd1_3c970ecec0b4row12_col3,#T_330c6638_b4e1_11eb_8cd1_3c970ecec0b4row12_col11,#T_330c6638_b4e1_11eb_8cd1_3c970ecec0b4row12_col13,#T_330c6638_b4e1_11eb_8cd1_3c970ecec0b4row12_col14,#T_330c6638_b4e1_11eb_8cd1_3c970ecec0b4row13_col9,#T_330c6638_b4e1_11eb_8cd1_3c970ecec0b4row13_col10,#T_330c6638_b4e1_11eb_8cd1_3c970ecec0b4row13_col12,#T_330c6638_b4e1_11eb_8cd1_3c970ecec0b4row13_col15,#T_330c6638_b4e1_11eb_8cd1_3c970ecec0b4row15_col8{\n",
       "            background-color:  #a50026;\n",
       "            color:  #f1f1f1;\n",
       "        }#T_330c6638_b4e1_11eb_8cd1_3c970ecec0b4row0_col2{\n",
       "            background-color:  #fdbb6d;\n",
       "            color:  #000000;\n",
       "        }#T_330c6638_b4e1_11eb_8cd1_3c970ecec0b4row0_col3,#T_330c6638_b4e1_11eb_8cd1_3c970ecec0b4row3_col12{\n",
       "            background-color:  #fca55d;\n",
       "            color:  #000000;\n",
       "        }#T_330c6638_b4e1_11eb_8cd1_3c970ecec0b4row0_col4,#T_330c6638_b4e1_11eb_8cd1_3c970ecec0b4row6_col14,#T_330c6638_b4e1_11eb_8cd1_3c970ecec0b4row11_col7,#T_330c6638_b4e1_11eb_8cd1_3c970ecec0b4row15_col0{\n",
       "            background-color:  #e0422f;\n",
       "            color:  #f1f1f1;\n",
       "        }#T_330c6638_b4e1_11eb_8cd1_3c970ecec0b4row0_col5,#T_330c6638_b4e1_11eb_8cd1_3c970ecec0b4row0_col16,#T_330c6638_b4e1_11eb_8cd1_3c970ecec0b4row0_col17,#T_330c6638_b4e1_11eb_8cd1_3c970ecec0b4row1_col11,#T_330c6638_b4e1_11eb_8cd1_3c970ecec0b4row11_col1,#T_330c6638_b4e1_11eb_8cd1_3c970ecec0b4row15_col5,#T_330c6638_b4e1_11eb_8cd1_3c970ecec0b4row16_col7,#T_330c6638_b4e1_11eb_8cd1_3c970ecec0b4row17_col7{\n",
       "            background-color:  #b30d26;\n",
       "            color:  #f1f1f1;\n",
       "        }#T_330c6638_b4e1_11eb_8cd1_3c970ecec0b4row0_col6,#T_330c6638_b4e1_11eb_8cd1_3c970ecec0b4row1_col9,#T_330c6638_b4e1_11eb_8cd1_3c970ecec0b4row2_col15,#T_330c6638_b4e1_11eb_8cd1_3c970ecec0b4row5_col15,#T_330c6638_b4e1_11eb_8cd1_3c970ecec0b4row12_col16,#T_330c6638_b4e1_11eb_8cd1_3c970ecec0b4row12_col17,#T_330c6638_b4e1_11eb_8cd1_3c970ecec0b4row16_col3{\n",
       "            background-color:  #c01a27;\n",
       "            color:  #f1f1f1;\n",
       "        }#T_330c6638_b4e1_11eb_8cd1_3c970ecec0b4row0_col8,#T_330c6638_b4e1_11eb_8cd1_3c970ecec0b4row9_col14{\n",
       "            background-color:  #ee613e;\n",
       "            color:  #000000;\n",
       "        }#T_330c6638_b4e1_11eb_8cd1_3c970ecec0b4row0_col9,#T_330c6638_b4e1_11eb_8cd1_3c970ecec0b4row6_col8,#T_330c6638_b4e1_11eb_8cd1_3c970ecec0b4row14_col9,#T_330c6638_b4e1_11eb_8cd1_3c970ecec0b4row15_col14,#T_330c6638_b4e1_11eb_8cd1_3c970ecec0b4row16_col4,#T_330c6638_b4e1_11eb_8cd1_3c970ecec0b4row17_col4,#T_330c6638_b4e1_11eb_8cd1_3c970ecec0b4row17_col8{\n",
       "            background-color:  #d22b27;\n",
       "            color:  #f1f1f1;\n",
       "        }#T_330c6638_b4e1_11eb_8cd1_3c970ecec0b4row0_col10,#T_330c6638_b4e1_11eb_8cd1_3c970ecec0b4row4_col14,#T_330c6638_b4e1_11eb_8cd1_3c970ecec0b4row11_col10{\n",
       "            background-color:  #dd3d2d;\n",
       "            color:  #f1f1f1;\n",
       "        }#T_330c6638_b4e1_11eb_8cd1_3c970ecec0b4row0_col11,#T_330c6638_b4e1_11eb_8cd1_3c970ecec0b4row5_col13,#T_330c6638_b4e1_11eb_8cd1_3c970ecec0b4row11_col14{\n",
       "            background-color:  #fed687;\n",
       "            color:  #000000;\n",
       "        }#T_330c6638_b4e1_11eb_8cd1_3c970ecec0b4row0_col12,#T_330c6638_b4e1_11eb_8cd1_3c970ecec0b4row16_col12,#T_330c6638_b4e1_11eb_8cd1_3c970ecec0b4row17_col12{\n",
       "            background-color:  #fdc374;\n",
       "            color:  #000000;\n",
       "        }#T_330c6638_b4e1_11eb_8cd1_3c970ecec0b4row0_col13,#T_330c6638_b4e1_11eb_8cd1_3c970ecec0b4row7_col13,#T_330c6638_b4e1_11eb_8cd1_3c970ecec0b4row14_col11,#T_330c6638_b4e1_11eb_8cd1_3c970ecec0b4row17_col13{\n",
       "            background-color:  #fec87a;\n",
       "            color:  #000000;\n",
       "        }#T_330c6638_b4e1_11eb_8cd1_3c970ecec0b4row0_col14,#T_330c6638_b4e1_11eb_8cd1_3c970ecec0b4row7_col4,#T_330c6638_b4e1_11eb_8cd1_3c970ecec0b4row10_col16,#T_330c6638_b4e1_11eb_8cd1_3c970ecec0b4row15_col4,#T_330c6638_b4e1_11eb_8cd1_3c970ecec0b4row16_col10{\n",
       "            background-color:  #f67a49;\n",
       "            color:  #000000;\n",
       "        }#T_330c6638_b4e1_11eb_8cd1_3c970ecec0b4row0_col15,#T_330c6638_b4e1_11eb_8cd1_3c970ecec0b4row6_col11,#T_330c6638_b4e1_11eb_8cd1_3c970ecec0b4row9_col1,#T_330c6638_b4e1_11eb_8cd1_3c970ecec0b4row9_col6,#T_330c6638_b4e1_11eb_8cd1_3c970ecec0b4row10_col6,#T_330c6638_b4e1_11eb_8cd1_3c970ecec0b4row12_col0,#T_330c6638_b4e1_11eb_8cd1_3c970ecec0b4row14_col5{\n",
       "            background-color:  #da362a;\n",
       "            color:  #f1f1f1;\n",
       "        }#T_330c6638_b4e1_11eb_8cd1_3c970ecec0b4row1_col2,#T_330c6638_b4e1_11eb_8cd1_3c970ecec0b4row2_col9,#T_330c6638_b4e1_11eb_8cd1_3c970ecec0b4row3_col16,#T_330c6638_b4e1_11eb_8cd1_3c970ecec0b4row3_col17,#T_330c6638_b4e1_11eb_8cd1_3c970ecec0b4row4_col2,#T_330c6638_b4e1_11eb_8cd1_3c970ecec0b4row4_col3,#T_330c6638_b4e1_11eb_8cd1_3c970ecec0b4row8_col1,#T_330c6638_b4e1_11eb_8cd1_3c970ecec0b4row14_col15{\n",
       "            background-color:  #b50f26;\n",
       "            color:  #f1f1f1;\n",
       "        }#T_330c6638_b4e1_11eb_8cd1_3c970ecec0b4row1_col3,#T_330c6638_b4e1_11eb_8cd1_3c970ecec0b4row5_col1,#T_330c6638_b4e1_11eb_8cd1_3c970ecec0b4row10_col7,#T_330c6638_b4e1_11eb_8cd1_3c970ecec0b4row12_col1,#T_330c6638_b4e1_11eb_8cd1_3c970ecec0b4row14_col7,#T_330c6638_b4e1_11eb_8cd1_3c970ecec0b4row16_col2{\n",
       "            background-color:  #bd1726;\n",
       "            color:  #f1f1f1;\n",
       "        }#T_330c6638_b4e1_11eb_8cd1_3c970ecec0b4row1_col7,#T_330c6638_b4e1_11eb_8cd1_3c970ecec0b4row4_col11,#T_330c6638_b4e1_11eb_8cd1_3c970ecec0b4row10_col1,#T_330c6638_b4e1_11eb_8cd1_3c970ecec0b4row11_col4,#T_330c6638_b4e1_11eb_8cd1_3c970ecec0b4row11_col9,#T_330c6638_b4e1_11eb_8cd1_3c970ecec0b4row14_col10{\n",
       "            background-color:  #d62f27;\n",
       "            color:  #f1f1f1;\n",
       "        }#T_330c6638_b4e1_11eb_8cd1_3c970ecec0b4row1_col10,#T_330c6638_b4e1_11eb_8cd1_3c970ecec0b4row3_col9,#T_330c6638_b4e1_11eb_8cd1_3c970ecec0b4row3_col15,#T_330c6638_b4e1_11eb_8cd1_3c970ecec0b4row4_col8,#T_330c6638_b4e1_11eb_8cd1_3c970ecec0b4row9_col2,#T_330c6638_b4e1_11eb_8cd1_3c970ecec0b4row11_col15,#T_330c6638_b4e1_11eb_8cd1_3c970ecec0b4row13_col4,#T_330c6638_b4e1_11eb_8cd1_3c970ecec0b4row14_col16,#T_330c6638_b4e1_11eb_8cd1_3c970ecec0b4row14_col17,#T_330c6638_b4e1_11eb_8cd1_3c970ecec0b4row16_col6,#T_330c6638_b4e1_11eb_8cd1_3c970ecec0b4row17_col2{\n",
       "            background-color:  #bb1526;\n",
       "            color:  #f1f1f1;\n",
       "        }#T_330c6638_b4e1_11eb_8cd1_3c970ecec0b4row1_col12,#T_330c6638_b4e1_11eb_8cd1_3c970ecec0b4row2_col12,#T_330c6638_b4e1_11eb_8cd1_3c970ecec0b4row6_col13,#T_330c6638_b4e1_11eb_8cd1_3c970ecec0b4row8_col10,#T_330c6638_b4e1_11eb_8cd1_3c970ecec0b4row9_col8{\n",
       "            background-color:  #fdad60;\n",
       "            color:  #000000;\n",
       "        }#T_330c6638_b4e1_11eb_8cd1_3c970ecec0b4row1_col13{\n",
       "            background-color:  #fee294;\n",
       "            color:  #000000;\n",
       "        }#T_330c6638_b4e1_11eb_8cd1_3c970ecec0b4row1_col14,#T_330c6638_b4e1_11eb_8cd1_3c970ecec0b4row11_col5,#T_330c6638_b4e1_11eb_8cd1_3c970ecec0b4row17_col11{\n",
       "            background-color:  #db382b;\n",
       "            color:  #f1f1f1;\n",
       "        }#T_330c6638_b4e1_11eb_8cd1_3c970ecec0b4row1_col15,#T_330c6638_b4e1_11eb_8cd1_3c970ecec0b4row1_col16,#T_330c6638_b4e1_11eb_8cd1_3c970ecec0b4row6_col0,#T_330c6638_b4e1_11eb_8cd1_3c970ecec0b4row6_col5,#T_330c6638_b4e1_11eb_8cd1_3c970ecec0b4row6_col10,#T_330c6638_b4e1_11eb_8cd1_3c970ecec0b4row7_col5,#T_330c6638_b4e1_11eb_8cd1_3c970ecec0b4row16_col5,#T_330c6638_b4e1_11eb_8cd1_3c970ecec0b4row17_col5{\n",
       "            background-color:  #c82227;\n",
       "            color:  #f1f1f1;\n",
       "        }#T_330c6638_b4e1_11eb_8cd1_3c970ecec0b4row1_col17,#T_330c6638_b4e1_11eb_8cd1_3c970ecec0b4row4_col10,#T_330c6638_b4e1_11eb_8cd1_3c970ecec0b4row5_col0,#T_330c6638_b4e1_11eb_8cd1_3c970ecec0b4row8_col4,#T_330c6638_b4e1_11eb_8cd1_3c970ecec0b4row13_col16,#T_330c6638_b4e1_11eb_8cd1_3c970ecec0b4row13_col17{\n",
       "            background-color:  #ca2427;\n",
       "            color:  #f1f1f1;\n",
       "        }#T_330c6638_b4e1_11eb_8cd1_3c970ecec0b4row2_col0{\n",
       "            background-color:  #fecc7e;\n",
       "            color:  #000000;\n",
       "        }#T_330c6638_b4e1_11eb_8cd1_3c970ecec0b4row2_col1,#T_330c6638_b4e1_11eb_8cd1_3c970ecec0b4row2_col4,#T_330c6638_b4e1_11eb_8cd1_3c970ecec0b4row7_col8,#T_330c6638_b4e1_11eb_8cd1_3c970ecec0b4row10_col3,#T_330c6638_b4e1_11eb_8cd1_3c970ecec0b4row14_col1,#T_330c6638_b4e1_11eb_8cd1_3c970ecec0b4row14_col6{\n",
       "            background-color:  #cc2627;\n",
       "            color:  #f1f1f1;\n",
       "        }#T_330c6638_b4e1_11eb_8cd1_3c970ecec0b4row2_col3{\n",
       "            background-color:  #9fd0e4;\n",
       "            color:  #000000;\n",
       "        }#T_330c6638_b4e1_11eb_8cd1_3c970ecec0b4row2_col5,#T_330c6638_b4e1_11eb_8cd1_3c970ecec0b4row3_col4,#T_330c6638_b4e1_11eb_8cd1_3c970ecec0b4row5_col2,#T_330c6638_b4e1_11eb_8cd1_3c970ecec0b4row6_col9,#T_330c6638_b4e1_11eb_8cd1_3c970ecec0b4row7_col0,#T_330c6638_b4e1_11eb_8cd1_3c970ecec0b4row7_col3,#T_330c6638_b4e1_11eb_8cd1_3c970ecec0b4row8_col17,#T_330c6638_b4e1_11eb_8cd1_3c970ecec0b4row9_col3{\n",
       "            background-color:  #c62027;\n",
       "            color:  #f1f1f1;\n",
       "        }#T_330c6638_b4e1_11eb_8cd1_3c970ecec0b4row2_col6,#T_330c6638_b4e1_11eb_8cd1_3c970ecec0b4row3_col10,#T_330c6638_b4e1_11eb_8cd1_3c970ecec0b4row7_col9,#T_330c6638_b4e1_11eb_8cd1_3c970ecec0b4row7_col10,#T_330c6638_b4e1_11eb_8cd1_3c970ecec0b4row8_col16,#T_330c6638_b4e1_11eb_8cd1_3c970ecec0b4row10_col2,#T_330c6638_b4e1_11eb_8cd1_3c970ecec0b4row10_col5,#T_330c6638_b4e1_11eb_8cd1_3c970ecec0b4row13_col7,#T_330c6638_b4e1_11eb_8cd1_3c970ecec0b4row15_col11,#T_330c6638_b4e1_11eb_8cd1_3c970ecec0b4row16_col15,#T_330c6638_b4e1_11eb_8cd1_3c970ecec0b4row17_col15{\n",
       "            background-color:  #c21c27;\n",
       "            color:  #f1f1f1;\n",
       "        }#T_330c6638_b4e1_11eb_8cd1_3c970ecec0b4row2_col7{\n",
       "            background-color:  #a70226;\n",
       "            color:  #f1f1f1;\n",
       "        }#T_330c6638_b4e1_11eb_8cd1_3c970ecec0b4row2_col8{\n",
       "            background-color:  #e34933;\n",
       "            color:  #f1f1f1;\n",
       "        }#T_330c6638_b4e1_11eb_8cd1_3c970ecec0b4row2_col10,#T_330c6638_b4e1_11eb_8cd1_3c970ecec0b4row5_col7,#T_330c6638_b4e1_11eb_8cd1_3c970ecec0b4row5_col9,#T_330c6638_b4e1_11eb_8cd1_3c970ecec0b4row5_col10,#T_330c6638_b4e1_11eb_8cd1_3c970ecec0b4row9_col7,#T_330c6638_b4e1_11eb_8cd1_3c970ecec0b4row12_col7,#T_330c6638_b4e1_11eb_8cd1_3c970ecec0b4row17_col3{\n",
       "            background-color:  #be1827;\n",
       "            color:  #f1f1f1;\n",
       "        }#T_330c6638_b4e1_11eb_8cd1_3c970ecec0b4row2_col11{\n",
       "            background-color:  #fee090;\n",
       "            color:  #000000;\n",
       "        }#T_330c6638_b4e1_11eb_8cd1_3c970ecec0b4row2_col13,#T_330c6638_b4e1_11eb_8cd1_3c970ecec0b4row8_col13{\n",
       "            background-color:  #fee192;\n",
       "            color:  #000000;\n",
       "        }#T_330c6638_b4e1_11eb_8cd1_3c970ecec0b4row2_col14{\n",
       "            background-color:  #f8864f;\n",
       "            color:  #000000;\n",
       "        }#T_330c6638_b4e1_11eb_8cd1_3c970ecec0b4row2_col16,#T_330c6638_b4e1_11eb_8cd1_3c970ecec0b4row4_col5,#T_330c6638_b4e1_11eb_8cd1_3c970ecec0b4row6_col3,#T_330c6638_b4e1_11eb_8cd1_3c970ecec0b4row7_col17,#T_330c6638_b4e1_11eb_8cd1_3c970ecec0b4row8_col7,#T_330c6638_b4e1_11eb_8cd1_3c970ecec0b4row17_col6{\n",
       "            background-color:  #b91326;\n",
       "            color:  #f1f1f1;\n",
       "        }#T_330c6638_b4e1_11eb_8cd1_3c970ecec0b4row2_col17,#T_330c6638_b4e1_11eb_8cd1_3c970ecec0b4row3_col7,#T_330c6638_b4e1_11eb_8cd1_3c970ecec0b4row4_col16,#T_330c6638_b4e1_11eb_8cd1_3c970ecec0b4row4_col17,#T_330c6638_b4e1_11eb_8cd1_3c970ecec0b4row7_col16,#T_330c6638_b4e1_11eb_8cd1_3c970ecec0b4row13_col6{\n",
       "            background-color:  #b71126;\n",
       "            color:  #f1f1f1;\n",
       "        }#T_330c6638_b4e1_11eb_8cd1_3c970ecec0b4row3_col0,#T_330c6638_b4e1_11eb_8cd1_3c970ecec0b4row10_col8,#T_330c6638_b4e1_11eb_8cd1_3c970ecec0b4row13_col14{\n",
       "            background-color:  #fdb567;\n",
       "            color:  #000000;\n",
       "        }#T_330c6638_b4e1_11eb_8cd1_3c970ecec0b4row3_col1,#T_330c6638_b4e1_11eb_8cd1_3c970ecec0b4row3_col5,#T_330c6638_b4e1_11eb_8cd1_3c970ecec0b4row5_col4,#T_330c6638_b4e1_11eb_8cd1_3c970ecec0b4row14_col4,#T_330c6638_b4e1_11eb_8cd1_3c970ecec0b4row17_col0{\n",
       "            background-color:  #ce2827;\n",
       "            color:  #f1f1f1;\n",
       "        }#T_330c6638_b4e1_11eb_8cd1_3c970ecec0b4row3_col2{\n",
       "            background-color:  #a1d1e5;\n",
       "            color:  #000000;\n",
       "        }#T_330c6638_b4e1_11eb_8cd1_3c970ecec0b4row3_col6,#T_330c6638_b4e1_11eb_8cd1_3c970ecec0b4row4_col9,#T_330c6638_b4e1_11eb_8cd1_3c970ecec0b4row5_col16,#T_330c6638_b4e1_11eb_8cd1_3c970ecec0b4row5_col17,#T_330c6638_b4e1_11eb_8cd1_3c970ecec0b4row9_col5,#T_330c6638_b4e1_11eb_8cd1_3c970ecec0b4row11_col16,#T_330c6638_b4e1_11eb_8cd1_3c970ecec0b4row11_col17{\n",
       "            background-color:  #c41e27;\n",
       "            color:  #f1f1f1;\n",
       "        }#T_330c6638_b4e1_11eb_8cd1_3c970ecec0b4row3_col8{\n",
       "            background-color:  #ed5f3c;\n",
       "            color:  #000000;\n",
       "        }#T_330c6638_b4e1_11eb_8cd1_3c970ecec0b4row3_col11{\n",
       "            background-color:  #feeca2;\n",
       "            color:  #000000;\n",
       "        }#T_330c6638_b4e1_11eb_8cd1_3c970ecec0b4row3_col13{\n",
       "            background-color:  #fee496;\n",
       "            color:  #000000;\n",
       "        }#T_330c6638_b4e1_11eb_8cd1_3c970ecec0b4row3_col14{\n",
       "            background-color:  #fa9b58;\n",
       "            color:  #000000;\n",
       "        }#T_330c6638_b4e1_11eb_8cd1_3c970ecec0b4row4_col0,#T_330c6638_b4e1_11eb_8cd1_3c970ecec0b4row8_col5,#T_330c6638_b4e1_11eb_8cd1_3c970ecec0b4row15_col9,#T_330c6638_b4e1_11eb_8cd1_3c970ecec0b4row15_col10,#T_330c6638_b4e1_11eb_8cd1_3c970ecec0b4row16_col14,#T_330c6638_b4e1_11eb_8cd1_3c970ecec0b4row17_col14{\n",
       "            background-color:  #e14430;\n",
       "            color:  #f1f1f1;\n",
       "        }#T_330c6638_b4e1_11eb_8cd1_3c970ecec0b4row4_col6{\n",
       "            background-color:  #fba35c;\n",
       "            color:  #000000;\n",
       "        }#T_330c6638_b4e1_11eb_8cd1_3c970ecec0b4row4_col7,#T_330c6638_b4e1_11eb_8cd1_3c970ecec0b4row12_col9,#T_330c6638_b4e1_11eb_8cd1_3c970ecec0b4row13_col8,#T_330c6638_b4e1_11eb_8cd1_3c970ecec0b4row14_col2{\n",
       "            background-color:  #ea5739;\n",
       "            color:  #000000;\n",
       "        }#T_330c6638_b4e1_11eb_8cd1_3c970ecec0b4row4_col12,#T_330c6638_b4e1_11eb_8cd1_3c970ecec0b4row6_col12,#T_330c6638_b4e1_11eb_8cd1_3c970ecec0b4row8_col11{\n",
       "            background-color:  #feda8a;\n",
       "            color:  #000000;\n",
       "        }#T_330c6638_b4e1_11eb_8cd1_3c970ecec0b4row4_col13,#T_330c6638_b4e1_11eb_8cd1_3c970ecec0b4row8_col12{\n",
       "            background-color:  #fcaa5f;\n",
       "            color:  #000000;\n",
       "        }#T_330c6638_b4e1_11eb_8cd1_3c970ecec0b4row4_col15{\n",
       "            background-color:  #f47044;\n",
       "            color:  #000000;\n",
       "        }#T_330c6638_b4e1_11eb_8cd1_3c970ecec0b4row5_col3{\n",
       "            background-color:  #d42d27;\n",
       "            color:  #f1f1f1;\n",
       "        }#T_330c6638_b4e1_11eb_8cd1_3c970ecec0b4row5_col6,#T_330c6638_b4e1_11eb_8cd1_3c970ecec0b4row11_col6{\n",
       "            background-color:  #d83128;\n",
       "            color:  #f1f1f1;\n",
       "        }#T_330c6638_b4e1_11eb_8cd1_3c970ecec0b4row5_col8,#T_330c6638_b4e1_11eb_8cd1_3c970ecec0b4row7_col14,#T_330c6638_b4e1_11eb_8cd1_3c970ecec0b4row9_col11,#T_330c6638_b4e1_11eb_8cd1_3c970ecec0b4row13_col2{\n",
       "            background-color:  #e54e35;\n",
       "            color:  #000000;\n",
       "        }#T_330c6638_b4e1_11eb_8cd1_3c970ecec0b4row5_col11,#T_330c6638_b4e1_11eb_8cd1_3c970ecec0b4row12_col6{\n",
       "            background-color:  #e75337;\n",
       "            color:  #000000;\n",
       "        }#T_330c6638_b4e1_11eb_8cd1_3c970ecec0b4row5_col12{\n",
       "            background-color:  #fdb366;\n",
       "            color:  #000000;\n",
       "        }#T_330c6638_b4e1_11eb_8cd1_3c970ecec0b4row5_col14,#T_330c6638_b4e1_11eb_8cd1_3c970ecec0b4row7_col11,#T_330c6638_b4e1_11eb_8cd1_3c970ecec0b4row14_col0{\n",
       "            background-color:  #f16640;\n",
       "            color:  #000000;\n",
       "        }#T_330c6638_b4e1_11eb_8cd1_3c970ecec0b4row6_col1,#T_330c6638_b4e1_11eb_8cd1_3c970ecec0b4row8_col15{\n",
       "            background-color:  #ab0626;\n",
       "            color:  #f1f1f1;\n",
       "        }#T_330c6638_b4e1_11eb_8cd1_3c970ecec0b4row6_col2,#T_330c6638_b4e1_11eb_8cd1_3c970ecec0b4row7_col2,#T_330c6638_b4e1_11eb_8cd1_3c970ecec0b4row15_col2,#T_330c6638_b4e1_11eb_8cd1_3c970ecec0b4row15_col3{\n",
       "            background-color:  #b10b26;\n",
       "            color:  #f1f1f1;\n",
       "        }#T_330c6638_b4e1_11eb_8cd1_3c970ecec0b4row6_col4{\n",
       "            background-color:  #fca85e;\n",
       "            color:  #000000;\n",
       "        }#T_330c6638_b4e1_11eb_8cd1_3c970ecec0b4row6_col7,#T_330c6638_b4e1_11eb_8cd1_3c970ecec0b4row10_col14{\n",
       "            background-color:  #ef633f;\n",
       "            color:  #000000;\n",
       "        }#T_330c6638_b4e1_11eb_8cd1_3c970ecec0b4row6_col15,#T_330c6638_b4e1_11eb_8cd1_3c970ecec0b4row15_col6{\n",
       "            background-color:  #f99153;\n",
       "            color:  #000000;\n",
       "        }#T_330c6638_b4e1_11eb_8cd1_3c970ecec0b4row7_col1,#T_330c6638_b4e1_11eb_8cd1_3c970ecec0b4row7_col15,#T_330c6638_b4e1_11eb_8cd1_3c970ecec0b4row12_col10{\n",
       "            background-color:  #e95538;\n",
       "            color:  #000000;\n",
       "        }#T_330c6638_b4e1_11eb_8cd1_3c970ecec0b4row7_col6,#T_330c6638_b4e1_11eb_8cd1_3c970ecec0b4row14_col12{\n",
       "            background-color:  #f67f4b;\n",
       "            color:  #000000;\n",
       "        }#T_330c6638_b4e1_11eb_8cd1_3c970ecec0b4row7_col12{\n",
       "            background-color:  #fdc778;\n",
       "            color:  #000000;\n",
       "        }#T_330c6638_b4e1_11eb_8cd1_3c970ecec0b4row8_col0,#T_330c6638_b4e1_11eb_8cd1_3c970ecec0b4row12_col15,#T_330c6638_b4e1_11eb_8cd1_3c970ecec0b4row17_col9{\n",
       "            background-color:  #f57245;\n",
       "            color:  #000000;\n",
       "        }#T_330c6638_b4e1_11eb_8cd1_3c970ecec0b4row8_col2,#T_330c6638_b4e1_11eb_8cd1_3c970ecec0b4row10_col4,#T_330c6638_b4e1_11eb_8cd1_3c970ecec0b4row13_col0,#T_330c6638_b4e1_11eb_8cd1_3c970ecec0b4row16_col1,#T_330c6638_b4e1_11eb_8cd1_3c970ecec0b4row17_col1{\n",
       "            background-color:  #de402e;\n",
       "            color:  #f1f1f1;\n",
       "        }#T_330c6638_b4e1_11eb_8cd1_3c970ecec0b4row8_col3,#T_330c6638_b4e1_11eb_8cd1_3c970ecec0b4row9_col15,#T_330c6638_b4e1_11eb_8cd1_3c970ecec0b4row10_col0,#T_330c6638_b4e1_11eb_8cd1_3c970ecec0b4row12_col4,#T_330c6638_b4e1_11eb_8cd1_3c970ecec0b4row13_col3{\n",
       "            background-color:  #ec5c3b;\n",
       "            color:  #000000;\n",
       "        }#T_330c6638_b4e1_11eb_8cd1_3c970ecec0b4row8_col6{\n",
       "            background-color:  #d93429;\n",
       "            color:  #f1f1f1;\n",
       "        }#T_330c6638_b4e1_11eb_8cd1_3c970ecec0b4row8_col9,#T_330c6638_b4e1_11eb_8cd1_3c970ecec0b4row15_col13{\n",
       "            background-color:  #fb9d59;\n",
       "            color:  #000000;\n",
       "        }#T_330c6638_b4e1_11eb_8cd1_3c970ecec0b4row8_col14{\n",
       "            background-color:  #fece7f;\n",
       "            color:  #000000;\n",
       "        }#T_330c6638_b4e1_11eb_8cd1_3c970ecec0b4row9_col0{\n",
       "            background-color:  #e44c34;\n",
       "            color:  #000000;\n",
       "        }#T_330c6638_b4e1_11eb_8cd1_3c970ecec0b4row9_col4,#T_330c6638_b4e1_11eb_8cd1_3c970ecec0b4row13_col5,#T_330c6638_b4e1_11eb_8cd1_3c970ecec0b4row15_col7,#T_330c6638_b4e1_11eb_8cd1_3c970ecec0b4row16_col11{\n",
       "            background-color:  #dc3b2c;\n",
       "            color:  #f1f1f1;\n",
       "        }#T_330c6638_b4e1_11eb_8cd1_3c970ecec0b4row9_col10,#T_330c6638_b4e1_11eb_8cd1_3c970ecec0b4row10_col9{\n",
       "            background-color:  #92c5de;\n",
       "            color:  #000000;\n",
       "        }#T_330c6638_b4e1_11eb_8cd1_3c970ecec0b4row9_col12,#T_330c6638_b4e1_11eb_8cd1_3c970ecec0b4row11_col3{\n",
       "            background-color:  #fee699;\n",
       "            color:  #000000;\n",
       "        }#T_330c6638_b4e1_11eb_8cd1_3c970ecec0b4row9_col13{\n",
       "            background-color:  #fdb164;\n",
       "            color:  #000000;\n",
       "        }#T_330c6638_b4e1_11eb_8cd1_3c970ecec0b4row9_col16{\n",
       "            background-color:  #f57748;\n",
       "            color:  #000000;\n",
       "        }#T_330c6638_b4e1_11eb_8cd1_3c970ecec0b4row9_col17,#T_330c6638_b4e1_11eb_8cd1_3c970ecec0b4row10_col17,#T_330c6638_b4e1_11eb_8cd1_3c970ecec0b4row14_col3,#T_330c6638_b4e1_11eb_8cd1_3c970ecec0b4row16_col9,#T_330c6638_b4e1_11eb_8cd1_3c970ecec0b4row17_col10{\n",
       "            background-color:  #f57547;\n",
       "            color:  #000000;\n",
       "        }#T_330c6638_b4e1_11eb_8cd1_3c970ecec0b4row10_col11,#T_330c6638_b4e1_11eb_8cd1_3c970ecec0b4row10_col15{\n",
       "            background-color:  #eb5a3a;\n",
       "            color:  #000000;\n",
       "        }#T_330c6638_b4e1_11eb_8cd1_3c970ecec0b4row10_col12{\n",
       "            background-color:  #fee597;\n",
       "            color:  #000000;\n",
       "        }#T_330c6638_b4e1_11eb_8cd1_3c970ecec0b4row10_col13{\n",
       "            background-color:  #fdaf62;\n",
       "            color:  #000000;\n",
       "        }#T_330c6638_b4e1_11eb_8cd1_3c970ecec0b4row11_col0{\n",
       "            background-color:  #fed889;\n",
       "            color:  #000000;\n",
       "        }#T_330c6638_b4e1_11eb_8cd1_3c970ecec0b4row11_col2,#T_330c6638_b4e1_11eb_8cd1_3c970ecec0b4row11_col8{\n",
       "            background-color:  #fed081;\n",
       "            color:  #000000;\n",
       "        }#T_330c6638_b4e1_11eb_8cd1_3c970ecec0b4row11_col12{\n",
       "            background-color:  #fa9656;\n",
       "            color:  #000000;\n",
       "        }#T_330c6638_b4e1_11eb_8cd1_3c970ecec0b4row11_col13{\n",
       "            background-color:  #feeda4;\n",
       "            color:  #000000;\n",
       "        }#T_330c6638_b4e1_11eb_8cd1_3c970ecec0b4row12_col5{\n",
       "            background-color:  #ad0826;\n",
       "            color:  #f1f1f1;\n",
       "        }#T_330c6638_b4e1_11eb_8cd1_3c970ecec0b4row12_col8{\n",
       "            background-color:  #a90426;\n",
       "            color:  #f1f1f1;\n",
       "        }#T_330c6638_b4e1_11eb_8cd1_3c970ecec0b4row13_col1{\n",
       "            background-color:  #f36b42;\n",
       "            color:  #000000;\n",
       "        }#T_330c6638_b4e1_11eb_8cd1_3c970ecec0b4row13_col11{\n",
       "            background-color:  #f88950;\n",
       "            color:  #000000;\n",
       "        }#T_330c6638_b4e1_11eb_8cd1_3c970ecec0b4row14_col8{\n",
       "            background-color:  #fdb769;\n",
       "            color:  #000000;\n",
       "        }#T_330c6638_b4e1_11eb_8cd1_3c970ecec0b4row14_col13{\n",
       "            background-color:  #fff6b1;\n",
       "            color:  #000000;\n",
       "        }#T_330c6638_b4e1_11eb_8cd1_3c970ecec0b4row15_col1,#T_330c6638_b4e1_11eb_8cd1_3c970ecec0b4row16_col0,#T_330c6638_b4e1_11eb_8cd1_3c970ecec0b4row16_col8{\n",
       "            background-color:  #d02927;\n",
       "            color:  #f1f1f1;\n",
       "        }#T_330c6638_b4e1_11eb_8cd1_3c970ecec0b4row15_col12{\n",
       "            background-color:  #fee99d;\n",
       "            color:  #000000;\n",
       "        }#T_330c6638_b4e1_11eb_8cd1_3c970ecec0b4row15_col16,#T_330c6638_b4e1_11eb_8cd1_3c970ecec0b4row15_col17{\n",
       "            background-color:  #af0926;\n",
       "            color:  #f1f1f1;\n",
       "        }#T_330c6638_b4e1_11eb_8cd1_3c970ecec0b4row16_col13{\n",
       "            background-color:  #feca7c;\n",
       "            color:  #000000;\n",
       "        }#T_330c6638_b4e1_11eb_8cd1_3c970ecec0b4row16_col17,#T_330c6638_b4e1_11eb_8cd1_3c970ecec0b4row17_col16{\n",
       "            background-color:  #374a9f;\n",
       "            color:  #f1f1f1;\n",
       "        }</style><table id=\"T_330c6638_b4e1_11eb_8cd1_3c970ecec0b4\" ><thead>    <tr>        <th class=\"blank level0\" ></th>        <th class=\"col_heading level0 col0\" >sex</th>        <th class=\"col_heading level0 col1\" >age</th>        <th class=\"col_heading level0 col2\" >car</th>        <th class=\"col_heading level0 col3\" >car_type</th>        <th class=\"col_heading level0 col4\" >decline_app_cnt</th>        <th class=\"col_heading level0 col5\" >good_work</th>        <th class=\"col_heading level0 col6\" >score_bki</th>        <th class=\"col_heading level0 col7\" >bki_request_cnt</th>        <th class=\"col_heading level0 col8\" >region_rating</th>        <th class=\"col_heading level0 col9\" >home_address</th>        <th class=\"col_heading level0 col10\" >work_address</th>        <th class=\"col_heading level0 col11\" >income</th>        <th class=\"col_heading level0 col12\" >sna</th>        <th class=\"col_heading level0 col13\" >first_time</th>        <th class=\"col_heading level0 col14\" >foreign_passport</th>        <th class=\"col_heading level0 col15\" >default</th>        <th class=\"col_heading level0 col16\" >month</th>        <th class=\"col_heading level0 col17\" >days</th>    </tr></thead><tbody>\n",
       "                <tr>\n",
       "                        <th id=\"T_330c6638_b4e1_11eb_8cd1_3c970ecec0b4level0_row0\" class=\"row_heading level0 row0\" >sex</th>\n",
       "                        <td id=\"T_330c6638_b4e1_11eb_8cd1_3c970ecec0b4row0_col0\" class=\"data row0 col0\" >1.000</td>\n",
       "                        <td id=\"T_330c6638_b4e1_11eb_8cd1_3c970ecec0b4row0_col1\" class=\"data row0 col1\" >-0.127</td>\n",
       "                        <td id=\"T_330c6638_b4e1_11eb_8cd1_3c970ecec0b4row0_col2\" class=\"data row0 col2\" >0.279</td>\n",
       "                        <td id=\"T_330c6638_b4e1_11eb_8cd1_3c970ecec0b4row0_col3\" class=\"data row0 col3\" >0.226</td>\n",
       "                        <td id=\"T_330c6638_b4e1_11eb_8cd1_3c970ecec0b4row0_col4\" class=\"data row0 col4\" >0.023</td>\n",
       "                        <td id=\"T_330c6638_b4e1_11eb_8cd1_3c970ecec0b4row0_col5\" class=\"data row0 col5\" >-0.040</td>\n",
       "                        <td id=\"T_330c6638_b4e1_11eb_8cd1_3c970ecec0b4row0_col6\" class=\"data row0 col6\" >-0.045</td>\n",
       "                        <td id=\"T_330c6638_b4e1_11eb_8cd1_3c970ecec0b4row0_col7\" class=\"data row0 col7\" >-0.049</td>\n",
       "                        <td id=\"T_330c6638_b4e1_11eb_8cd1_3c970ecec0b4row0_col8\" class=\"data row0 col8\" >0.108</td>\n",
       "                        <td id=\"T_330c6638_b4e1_11eb_8cd1_3c970ecec0b4row0_col9\" class=\"data row0 col9\" >0.038</td>\n",
       "                        <td id=\"T_330c6638_b4e1_11eb_8cd1_3c970ecec0b4row0_col10\" class=\"data row0 col10\" >0.069</td>\n",
       "                        <td id=\"T_330c6638_b4e1_11eb_8cd1_3c970ecec0b4row0_col11\" class=\"data row0 col11\" >0.305</td>\n",
       "                        <td id=\"T_330c6638_b4e1_11eb_8cd1_3c970ecec0b4row0_col12\" class=\"data row0 col12\" >-0.004</td>\n",
       "                        <td id=\"T_330c6638_b4e1_11eb_8cd1_3c970ecec0b4row0_col13\" class=\"data row0 col13\" >0.014</td>\n",
       "                        <td id=\"T_330c6638_b4e1_11eb_8cd1_3c970ecec0b4row0_col14\" class=\"data row0 col14\" >0.086</td>\n",
       "                        <td id=\"T_330c6638_b4e1_11eb_8cd1_3c970ecec0b4row0_col15\" class=\"data row0 col15\" >0.020</td>\n",
       "                        <td id=\"T_330c6638_b4e1_11eb_8cd1_3c970ecec0b4row0_col16\" class=\"data row0 col16\" >-0.030</td>\n",
       "                        <td id=\"T_330c6638_b4e1_11eb_8cd1_3c970ecec0b4row0_col17\" class=\"data row0 col17\" >-0.033</td>\n",
       "            </tr>\n",
       "            <tr>\n",
       "                        <th id=\"T_330c6638_b4e1_11eb_8cd1_3c970ecec0b4level0_row1\" class=\"row_heading level0 row1\" >age</th>\n",
       "                        <td id=\"T_330c6638_b4e1_11eb_8cd1_3c970ecec0b4row1_col0\" class=\"data row1 col0\" >-0.127</td>\n",
       "                        <td id=\"T_330c6638_b4e1_11eb_8cd1_3c970ecec0b4row1_col1\" class=\"data row1 col1\" >1.000</td>\n",
       "                        <td id=\"T_330c6638_b4e1_11eb_8cd1_3c970ecec0b4row1_col2\" class=\"data row1 col2\" >-0.037</td>\n",
       "                        <td id=\"T_330c6638_b4e1_11eb_8cd1_3c970ecec0b4row1_col3\" class=\"data row1 col3\" >-0.034</td>\n",
       "                        <td id=\"T_330c6638_b4e1_11eb_8cd1_3c970ecec0b4row1_col4\" class=\"data row1 col4\" >-0.125</td>\n",
       "                        <td id=\"T_330c6638_b4e1_11eb_8cd1_3c970ecec0b4row1_col5\" class=\"data row1 col5\" >-0.073</td>\n",
       "                        <td id=\"T_330c6638_b4e1_11eb_8cd1_3c970ecec0b4row1_col6\" class=\"data row1 col6\" >-0.110</td>\n",
       "                        <td id=\"T_330c6638_b4e1_11eb_8cd1_3c970ecec0b4row1_col7\" class=\"data row1 col7\" >0.055</td>\n",
       "                        <td id=\"T_330c6638_b4e1_11eb_8cd1_3c970ecec0b4row1_col8\" class=\"data row1 col8\" >-0.091</td>\n",
       "                        <td id=\"T_330c6638_b4e1_11eb_8cd1_3c970ecec0b4row1_col9\" class=\"data row1 col9\" >0.000</td>\n",
       "                        <td id=\"T_330c6638_b4e1_11eb_8cd1_3c970ecec0b4row1_col10\" class=\"data row1 col10\" >-0.015</td>\n",
       "                        <td id=\"T_330c6638_b4e1_11eb_8cd1_3c970ecec0b4row1_col11\" class=\"data row1 col11\" >-0.093</td>\n",
       "                        <td id=\"T_330c6638_b4e1_11eb_8cd1_3c970ecec0b4row1_col12\" class=\"data row1 col12\" >-0.070</td>\n",
       "                        <td id=\"T_330c6638_b4e1_11eb_8cd1_3c970ecec0b4row1_col13\" class=\"data row1 col13\" >0.095</td>\n",
       "                        <td id=\"T_330c6638_b4e1_11eb_8cd1_3c970ecec0b4row1_col14\" class=\"data row1 col14\" >-0.037</td>\n",
       "                        <td id=\"T_330c6638_b4e1_11eb_8cd1_3c970ecec0b4row1_col15\" class=\"data row1 col15\" >-0.026</td>\n",
       "                        <td id=\"T_330c6638_b4e1_11eb_8cd1_3c970ecec0b4row1_col16\" class=\"data row1 col16\" >0.015</td>\n",
       "                        <td id=\"T_330c6638_b4e1_11eb_8cd1_3c970ecec0b4row1_col17\" class=\"data row1 col17\" >0.017</td>\n",
       "            </tr>\n",
       "            <tr>\n",
       "                        <th id=\"T_330c6638_b4e1_11eb_8cd1_3c970ecec0b4level0_row2\" class=\"row_heading level0 row2\" >car</th>\n",
       "                        <td id=\"T_330c6638_b4e1_11eb_8cd1_3c970ecec0b4row2_col0\" class=\"data row2 col0\" >0.279</td>\n",
       "                        <td id=\"T_330c6638_b4e1_11eb_8cd1_3c970ecec0b4row2_col1\" class=\"data row2 col1\" >-0.037</td>\n",
       "                        <td id=\"T_330c6638_b4e1_11eb_8cd1_3c970ecec0b4row2_col2\" class=\"data row2 col2\" >1.000</td>\n",
       "                        <td id=\"T_330c6638_b4e1_11eb_8cd1_3c970ecec0b4row2_col3\" class=\"data row2 col3\" >0.698</td>\n",
       "                        <td id=\"T_330c6638_b4e1_11eb_8cd1_3c970ecec0b4row2_col4\" class=\"data row2 col4\" >-0.036</td>\n",
       "                        <td id=\"T_330c6638_b4e1_11eb_8cd1_3c970ecec0b4row2_col5\" class=\"data row2 col5\" >0.002</td>\n",
       "                        <td id=\"T_330c6638_b4e1_11eb_8cd1_3c970ecec0b4row2_col6\" class=\"data row2 col6\" >-0.045</td>\n",
       "                        <td id=\"T_330c6638_b4e1_11eb_8cd1_3c970ecec0b4row2_col7\" class=\"data row2 col7\" >-0.043</td>\n",
       "                        <td id=\"T_330c6638_b4e1_11eb_8cd1_3c970ecec0b4row2_col8\" class=\"data row2 col8\" >0.065</td>\n",
       "                        <td id=\"T_330c6638_b4e1_11eb_8cd1_3c970ecec0b4row2_col9\" class=\"data row2 col9\" >-0.025</td>\n",
       "                        <td id=\"T_330c6638_b4e1_11eb_8cd1_3c970ecec0b4row2_col10\" class=\"data row2 col10\" >-0.008</td>\n",
       "                        <td id=\"T_330c6638_b4e1_11eb_8cd1_3c970ecec0b4row2_col11\" class=\"data row2 col11\" >0.325</td>\n",
       "                        <td id=\"T_330c6638_b4e1_11eb_8cd1_3c970ecec0b4row2_col12\" class=\"data row2 col12\" >-0.072</td>\n",
       "                        <td id=\"T_330c6638_b4e1_11eb_8cd1_3c970ecec0b4row2_col13\" class=\"data row2 col13\" >0.090</td>\n",
       "                        <td id=\"T_330c6638_b4e1_11eb_8cd1_3c970ecec0b4row2_col14\" class=\"data row2 col14\" >0.108</td>\n",
       "                        <td id=\"T_330c6638_b4e1_11eb_8cd1_3c970ecec0b4row2_col15\" class=\"data row2 col15\" >-0.043</td>\n",
       "                        <td id=\"T_330c6638_b4e1_11eb_8cd1_3c970ecec0b4row2_col16\" class=\"data row2 col16\" >-0.020</td>\n",
       "                        <td id=\"T_330c6638_b4e1_11eb_8cd1_3c970ecec0b4row2_col17\" class=\"data row2 col17\" >-0.022</td>\n",
       "            </tr>\n",
       "            <tr>\n",
       "                        <th id=\"T_330c6638_b4e1_11eb_8cd1_3c970ecec0b4level0_row3\" class=\"row_heading level0 row3\" >car_type</th>\n",
       "                        <td id=\"T_330c6638_b4e1_11eb_8cd1_3c970ecec0b4row3_col0\" class=\"data row3 col0\" >0.226</td>\n",
       "                        <td id=\"T_330c6638_b4e1_11eb_8cd1_3c970ecec0b4row3_col1\" class=\"data row3 col1\" >-0.034</td>\n",
       "                        <td id=\"T_330c6638_b4e1_11eb_8cd1_3c970ecec0b4row3_col2\" class=\"data row3 col2\" >0.698</td>\n",
       "                        <td id=\"T_330c6638_b4e1_11eb_8cd1_3c970ecec0b4row3_col3\" class=\"data row3 col3\" >1.000</td>\n",
       "                        <td id=\"T_330c6638_b4e1_11eb_8cd1_3c970ecec0b4row3_col4\" class=\"data row3 col4\" >-0.048</td>\n",
       "                        <td id=\"T_330c6638_b4e1_11eb_8cd1_3c970ecec0b4row3_col5\" class=\"data row3 col5\" >0.018</td>\n",
       "                        <td id=\"T_330c6638_b4e1_11eb_8cd1_3c970ecec0b4row3_col6\" class=\"data row3 col6\" >-0.040</td>\n",
       "                        <td id=\"T_330c6638_b4e1_11eb_8cd1_3c970ecec0b4row3_col7\" class=\"data row3 col7\" >-0.010</td>\n",
       "                        <td id=\"T_330c6638_b4e1_11eb_8cd1_3c970ecec0b4row3_col8\" class=\"data row3 col8\" >0.104</td>\n",
       "                        <td id=\"T_330c6638_b4e1_11eb_8cd1_3c970ecec0b4row3_col9\" class=\"data row3 col9\" >-0.012</td>\n",
       "                        <td id=\"T_330c6638_b4e1_11eb_8cd1_3c970ecec0b4row3_col10\" class=\"data row3 col10\" >0.001</td>\n",
       "                        <td id=\"T_330c6638_b4e1_11eb_8cd1_3c970ecec0b4row3_col11\" class=\"data row3 col11\" >0.370</td>\n",
       "                        <td id=\"T_330c6638_b4e1_11eb_8cd1_3c970ecec0b4row3_col12\" class=\"data row3 col12\" >-0.086</td>\n",
       "                        <td id=\"T_330c6638_b4e1_11eb_8cd1_3c970ecec0b4row3_col13\" class=\"data row3 col13\" >0.104</td>\n",
       "                        <td id=\"T_330c6638_b4e1_11eb_8cd1_3c970ecec0b4row3_col14\" class=\"data row3 col14\" >0.146</td>\n",
       "                        <td id=\"T_330c6638_b4e1_11eb_8cd1_3c970ecec0b4row3_col15\" class=\"data row3 col15\" >-0.057</td>\n",
       "                        <td id=\"T_330c6638_b4e1_11eb_8cd1_3c970ecec0b4row3_col16\" class=\"data row3 col16\" >-0.025</td>\n",
       "                        <td id=\"T_330c6638_b4e1_11eb_8cd1_3c970ecec0b4row3_col17\" class=\"data row3 col17\" >-0.027</td>\n",
       "            </tr>\n",
       "            <tr>\n",
       "                        <th id=\"T_330c6638_b4e1_11eb_8cd1_3c970ecec0b4level0_row4\" class=\"row_heading level0 row4\" >decline_app_cnt</th>\n",
       "                        <td id=\"T_330c6638_b4e1_11eb_8cd1_3c970ecec0b4row4_col0\" class=\"data row4 col0\" >0.023</td>\n",
       "                        <td id=\"T_330c6638_b4e1_11eb_8cd1_3c970ecec0b4row4_col1\" class=\"data row4 col1\" >-0.125</td>\n",
       "                        <td id=\"T_330c6638_b4e1_11eb_8cd1_3c970ecec0b4row4_col2\" class=\"data row4 col2\" >-0.036</td>\n",
       "                        <td id=\"T_330c6638_b4e1_11eb_8cd1_3c970ecec0b4row4_col3\" class=\"data row4 col3\" >-0.048</td>\n",
       "                        <td id=\"T_330c6638_b4e1_11eb_8cd1_3c970ecec0b4row4_col4\" class=\"data row4 col4\" >1.000</td>\n",
       "                        <td id=\"T_330c6638_b4e1_11eb_8cd1_3c970ecec0b4row4_col5\" class=\"data row4 col5\" >-0.030</td>\n",
       "                        <td id=\"T_330c6638_b4e1_11eb_8cd1_3c970ecec0b4row4_col6\" class=\"data row4 col6\" >0.203</td>\n",
       "                        <td id=\"T_330c6638_b4e1_11eb_8cd1_3c970ecec0b4row4_col7\" class=\"data row4 col7\" >0.126</td>\n",
       "                        <td id=\"T_330c6638_b4e1_11eb_8cd1_3c970ecec0b4row4_col8\" class=\"data row4 col8\" >-0.040</td>\n",
       "                        <td id=\"T_330c6638_b4e1_11eb_8cd1_3c970ecec0b4row4_col9\" class=\"data row4 col9\" >0.011</td>\n",
       "                        <td id=\"T_330c6638_b4e1_11eb_8cd1_3c970ecec0b4row4_col10\" class=\"data row4 col10\" >0.017</td>\n",
       "                        <td id=\"T_330c6638_b4e1_11eb_8cd1_3c970ecec0b4row4_col11\" class=\"data row4 col11\" >-0.013</td>\n",
       "                        <td id=\"T_330c6638_b4e1_11eb_8cd1_3c970ecec0b4row4_col12\" class=\"data row4 col12\" >0.069</td>\n",
       "                        <td id=\"T_330c6638_b4e1_11eb_8cd1_3c970ecec0b4row4_col13\" class=\"data row4 col13\" >-0.074</td>\n",
       "                        <td id=\"T_330c6638_b4e1_11eb_8cd1_3c970ecec0b4row4_col14\" class=\"data row4 col14\" >-0.030</td>\n",
       "                        <td id=\"T_330c6638_b4e1_11eb_8cd1_3c970ecec0b4row4_col15\" class=\"data row4 col15\" >0.121</td>\n",
       "                        <td id=\"T_330c6638_b4e1_11eb_8cd1_3c970ecec0b4row4_col16\" class=\"data row4 col16\" >-0.022</td>\n",
       "                        <td id=\"T_330c6638_b4e1_11eb_8cd1_3c970ecec0b4row4_col17\" class=\"data row4 col17\" >-0.023</td>\n",
       "            </tr>\n",
       "            <tr>\n",
       "                        <th id=\"T_330c6638_b4e1_11eb_8cd1_3c970ecec0b4level0_row5\" class=\"row_heading level0 row5\" >good_work</th>\n",
       "                        <td id=\"T_330c6638_b4e1_11eb_8cd1_3c970ecec0b4row5_col0\" class=\"data row5 col0\" >-0.040</td>\n",
       "                        <td id=\"T_330c6638_b4e1_11eb_8cd1_3c970ecec0b4row5_col1\" class=\"data row5 col1\" >-0.073</td>\n",
       "                        <td id=\"T_330c6638_b4e1_11eb_8cd1_3c970ecec0b4row5_col2\" class=\"data row5 col2\" >0.002</td>\n",
       "                        <td id=\"T_330c6638_b4e1_11eb_8cd1_3c970ecec0b4row5_col3\" class=\"data row5 col3\" >0.018</td>\n",
       "                        <td id=\"T_330c6638_b4e1_11eb_8cd1_3c970ecec0b4row5_col4\" class=\"data row5 col4\" >-0.030</td>\n",
       "                        <td id=\"T_330c6638_b4e1_11eb_8cd1_3c970ecec0b4row5_col5\" class=\"data row5 col5\" >1.000</td>\n",
       "                        <td id=\"T_330c6638_b4e1_11eb_8cd1_3c970ecec0b4row5_col6\" class=\"data row5 col6\" >0.006</td>\n",
       "                        <td id=\"T_330c6638_b4e1_11eb_8cd1_3c970ecec0b4row5_col7\" class=\"data row5 col7\" >0.006</td>\n",
       "                        <td id=\"T_330c6638_b4e1_11eb_8cd1_3c970ecec0b4row5_col8\" class=\"data row5 col8\" >0.073</td>\n",
       "                        <td id=\"T_330c6638_b4e1_11eb_8cd1_3c970ecec0b4row5_col9\" class=\"data row5 col9\" >-0.004</td>\n",
       "                        <td id=\"T_330c6638_b4e1_11eb_8cd1_3c970ecec0b4row5_col10\" class=\"data row5 col10\" >-0.009</td>\n",
       "                        <td id=\"T_330c6638_b4e1_11eb_8cd1_3c970ecec0b4row5_col11\" class=\"data row5 col11\" >0.052</td>\n",
       "                        <td id=\"T_330c6638_b4e1_11eb_8cd1_3c970ecec0b4row5_col12\" class=\"data row5 col12\" >-0.054</td>\n",
       "                        <td id=\"T_330c6638_b4e1_11eb_8cd1_3c970ecec0b4row5_col13\" class=\"data row5 col13\" >0.056</td>\n",
       "                        <td id=\"T_330c6638_b4e1_11eb_8cd1_3c970ecec0b4row5_col14\" class=\"data row5 col14\" >0.046</td>\n",
       "                        <td id=\"T_330c6638_b4e1_11eb_8cd1_3c970ecec0b4row5_col15\" class=\"data row5 col15\" >-0.043</td>\n",
       "                        <td id=\"T_330c6638_b4e1_11eb_8cd1_3c970ecec0b4row5_col16\" class=\"data row5 col16\" >0.005</td>\n",
       "                        <td id=\"T_330c6638_b4e1_11eb_8cd1_3c970ecec0b4row5_col17\" class=\"data row5 col17\" >0.005</td>\n",
       "            </tr>\n",
       "            <tr>\n",
       "                        <th id=\"T_330c6638_b4e1_11eb_8cd1_3c970ecec0b4level0_row6\" class=\"row_heading level0 row6\" >score_bki</th>\n",
       "                        <td id=\"T_330c6638_b4e1_11eb_8cd1_3c970ecec0b4row6_col0\" class=\"data row6 col0\" >-0.045</td>\n",
       "                        <td id=\"T_330c6638_b4e1_11eb_8cd1_3c970ecec0b4row6_col1\" class=\"data row6 col1\" >-0.110</td>\n",
       "                        <td id=\"T_330c6638_b4e1_11eb_8cd1_3c970ecec0b4row6_col2\" class=\"data row6 col2\" >-0.045</td>\n",
       "                        <td id=\"T_330c6638_b4e1_11eb_8cd1_3c970ecec0b4row6_col3\" class=\"data row6 col3\" >-0.040</td>\n",
       "                        <td id=\"T_330c6638_b4e1_11eb_8cd1_3c970ecec0b4row6_col4\" class=\"data row6 col4\" >0.203</td>\n",
       "                        <td id=\"T_330c6638_b4e1_11eb_8cd1_3c970ecec0b4row6_col5\" class=\"data row6 col5\" >0.006</td>\n",
       "                        <td id=\"T_330c6638_b4e1_11eb_8cd1_3c970ecec0b4row6_col6\" class=\"data row6 col6\" >1.000</td>\n",
       "                        <td id=\"T_330c6638_b4e1_11eb_8cd1_3c970ecec0b4row6_col7\" class=\"data row6 col7\" >0.145</td>\n",
       "                        <td id=\"T_330c6638_b4e1_11eb_8cd1_3c970ecec0b4row6_col8\" class=\"data row6 col8\" >0.009</td>\n",
       "                        <td id=\"T_330c6638_b4e1_11eb_8cd1_3c970ecec0b4row6_col9\" class=\"data row6 col9\" >0.014</td>\n",
       "                        <td id=\"T_330c6638_b4e1_11eb_8cd1_3c970ecec0b4row6_col10\" class=\"data row6 col10\" >0.013</td>\n",
       "                        <td id=\"T_330c6638_b4e1_11eb_8cd1_3c970ecec0b4row6_col11\" class=\"data row6 col11\" >0.003</td>\n",
       "                        <td id=\"T_330c6638_b4e1_11eb_8cd1_3c970ecec0b4row6_col12\" class=\"data row6 col12\" >0.068</td>\n",
       "                        <td id=\"T_330c6638_b4e1_11eb_8cd1_3c970ecec0b4row6_col13\" class=\"data row6 col13\" >-0.069</td>\n",
       "                        <td id=\"T_330c6638_b4e1_11eb_8cd1_3c970ecec0b4row6_col14\" class=\"data row6 col14\" >-0.022</td>\n",
       "                        <td id=\"T_330c6638_b4e1_11eb_8cd1_3c970ecec0b4row6_col15\" class=\"data row6 col15\" >0.175</td>\n",
       "                        <td id=\"T_330c6638_b4e1_11eb_8cd1_3c970ecec0b4row6_col16\" class=\"data row6 col16\" >-0.062</td>\n",
       "                        <td id=\"T_330c6638_b4e1_11eb_8cd1_3c970ecec0b4row6_col17\" class=\"data row6 col17\" >-0.064</td>\n",
       "            </tr>\n",
       "            <tr>\n",
       "                        <th id=\"T_330c6638_b4e1_11eb_8cd1_3c970ecec0b4level0_row7\" class=\"row_heading level0 row7\" >bki_request_cnt</th>\n",
       "                        <td id=\"T_330c6638_b4e1_11eb_8cd1_3c970ecec0b4row7_col0\" class=\"data row7 col0\" >-0.049</td>\n",
       "                        <td id=\"T_330c6638_b4e1_11eb_8cd1_3c970ecec0b4row7_col1\" class=\"data row7 col1\" >0.055</td>\n",
       "                        <td id=\"T_330c6638_b4e1_11eb_8cd1_3c970ecec0b4row7_col2\" class=\"data row7 col2\" >-0.043</td>\n",
       "                        <td id=\"T_330c6638_b4e1_11eb_8cd1_3c970ecec0b4row7_col3\" class=\"data row7 col3\" >-0.010</td>\n",
       "                        <td id=\"T_330c6638_b4e1_11eb_8cd1_3c970ecec0b4row7_col4\" class=\"data row7 col4\" >0.126</td>\n",
       "                        <td id=\"T_330c6638_b4e1_11eb_8cd1_3c970ecec0b4row7_col5\" class=\"data row7 col5\" >0.006</td>\n",
       "                        <td id=\"T_330c6638_b4e1_11eb_8cd1_3c970ecec0b4row7_col6\" class=\"data row7 col6\" >0.145</td>\n",
       "                        <td id=\"T_330c6638_b4e1_11eb_8cd1_3c970ecec0b4row7_col7\" class=\"data row7 col7\" >1.000</td>\n",
       "                        <td id=\"T_330c6638_b4e1_11eb_8cd1_3c970ecec0b4row7_col8\" class=\"data row7 col8\" >-0.005</td>\n",
       "                        <td id=\"T_330c6638_b4e1_11eb_8cd1_3c970ecec0b4row7_col9\" class=\"data row7 col9\" >0.005</td>\n",
       "                        <td id=\"T_330c6638_b4e1_11eb_8cd1_3c970ecec0b4row7_col10\" class=\"data row7 col10\" >0.001</td>\n",
       "                        <td id=\"T_330c6638_b4e1_11eb_8cd1_3c970ecec0b4row7_col11\" class=\"data row7 col11\" >0.090</td>\n",
       "                        <td id=\"T_330c6638_b4e1_11eb_8cd1_3c970ecec0b4row7_col12\" class=\"data row7 col12\" >0.007</td>\n",
       "                        <td id=\"T_330c6638_b4e1_11eb_8cd1_3c970ecec0b4row7_col13\" class=\"data row7 col13\" >0.014</td>\n",
       "                        <td id=\"T_330c6638_b4e1_11eb_8cd1_3c970ecec0b4row7_col14\" class=\"data row7 col14\" >0.001</td>\n",
       "                        <td id=\"T_330c6638_b4e1_11eb_8cd1_3c970ecec0b4row7_col15\" class=\"data row7 col15\" >0.076</td>\n",
       "                        <td id=\"T_330c6638_b4e1_11eb_8cd1_3c970ecec0b4row7_col16\" class=\"data row7 col16\" >-0.020</td>\n",
       "                        <td id=\"T_330c6638_b4e1_11eb_8cd1_3c970ecec0b4row7_col17\" class=\"data row7 col17\" >-0.019</td>\n",
       "            </tr>\n",
       "            <tr>\n",
       "                        <th id=\"T_330c6638_b4e1_11eb_8cd1_3c970ecec0b4level0_row8\" class=\"row_heading level0 row8\" >region_rating</th>\n",
       "                        <td id=\"T_330c6638_b4e1_11eb_8cd1_3c970ecec0b4row8_col0\" class=\"data row8 col0\" >0.108</td>\n",
       "                        <td id=\"T_330c6638_b4e1_11eb_8cd1_3c970ecec0b4row8_col1\" class=\"data row8 col1\" >-0.091</td>\n",
       "                        <td id=\"T_330c6638_b4e1_11eb_8cd1_3c970ecec0b4row8_col2\" class=\"data row8 col2\" >0.065</td>\n",
       "                        <td id=\"T_330c6638_b4e1_11eb_8cd1_3c970ecec0b4row8_col3\" class=\"data row8 col3\" >0.104</td>\n",
       "                        <td id=\"T_330c6638_b4e1_11eb_8cd1_3c970ecec0b4row8_col4\" class=\"data row8 col4\" >-0.040</td>\n",
       "                        <td id=\"T_330c6638_b4e1_11eb_8cd1_3c970ecec0b4row8_col5\" class=\"data row8 col5\" >0.073</td>\n",
       "                        <td id=\"T_330c6638_b4e1_11eb_8cd1_3c970ecec0b4row8_col6\" class=\"data row8 col6\" >0.009</td>\n",
       "                        <td id=\"T_330c6638_b4e1_11eb_8cd1_3c970ecec0b4row8_col7\" class=\"data row8 col7\" >-0.005</td>\n",
       "                        <td id=\"T_330c6638_b4e1_11eb_8cd1_3c970ecec0b4row8_col8\" class=\"data row8 col8\" >1.000</td>\n",
       "                        <td id=\"T_330c6638_b4e1_11eb_8cd1_3c970ecec0b4row8_col9\" class=\"data row8 col9\" >0.234</td>\n",
       "                        <td id=\"T_330c6638_b4e1_11eb_8cd1_3c970ecec0b4row8_col10\" class=\"data row8 col10\" >0.254</td>\n",
       "                        <td id=\"T_330c6638_b4e1_11eb_8cd1_3c970ecec0b4row8_col11\" class=\"data row8 col11\" >0.313</td>\n",
       "                        <td id=\"T_330c6638_b4e1_11eb_8cd1_3c970ecec0b4row8_col12\" class=\"data row8 col12\" >-0.078</td>\n",
       "                        <td id=\"T_330c6638_b4e1_11eb_8cd1_3c970ecec0b4row8_col13\" class=\"data row8 col13\" >0.089</td>\n",
       "                        <td id=\"T_330c6638_b4e1_11eb_8cd1_3c970ecec0b4row8_col14\" class=\"data row8 col14\" >0.255</td>\n",
       "                        <td id=\"T_330c6638_b4e1_11eb_8cd1_3c970ecec0b4row8_col15\" class=\"data row8 col15\" >-0.089</td>\n",
       "                        <td id=\"T_330c6638_b4e1_11eb_8cd1_3c970ecec0b4row8_col16\" class=\"data row8 col16\" >0.005</td>\n",
       "                        <td id=\"T_330c6638_b4e1_11eb_8cd1_3c970ecec0b4row8_col17\" class=\"data row8 col17\" >0.007</td>\n",
       "            </tr>\n",
       "            <tr>\n",
       "                        <th id=\"T_330c6638_b4e1_11eb_8cd1_3c970ecec0b4level0_row9\" class=\"row_heading level0 row9\" >home_address</th>\n",
       "                        <td id=\"T_330c6638_b4e1_11eb_8cd1_3c970ecec0b4row9_col0\" class=\"data row9 col0\" >0.038</td>\n",
       "                        <td id=\"T_330c6638_b4e1_11eb_8cd1_3c970ecec0b4row9_col1\" class=\"data row9 col1\" >0.000</td>\n",
       "                        <td id=\"T_330c6638_b4e1_11eb_8cd1_3c970ecec0b4row9_col2\" class=\"data row9 col2\" >-0.025</td>\n",
       "                        <td id=\"T_330c6638_b4e1_11eb_8cd1_3c970ecec0b4row9_col3\" class=\"data row9 col3\" >-0.012</td>\n",
       "                        <td id=\"T_330c6638_b4e1_11eb_8cd1_3c970ecec0b4row9_col4\" class=\"data row9 col4\" >0.011</td>\n",
       "                        <td id=\"T_330c6638_b4e1_11eb_8cd1_3c970ecec0b4row9_col5\" class=\"data row9 col5\" >-0.004</td>\n",
       "                        <td id=\"T_330c6638_b4e1_11eb_8cd1_3c970ecec0b4row9_col6\" class=\"data row9 col6\" >0.014</td>\n",
       "                        <td id=\"T_330c6638_b4e1_11eb_8cd1_3c970ecec0b4row9_col7\" class=\"data row9 col7\" >0.005</td>\n",
       "                        <td id=\"T_330c6638_b4e1_11eb_8cd1_3c970ecec0b4row9_col8\" class=\"data row9 col8\" >0.234</td>\n",
       "                        <td id=\"T_330c6638_b4e1_11eb_8cd1_3c970ecec0b4row9_col9\" class=\"data row9 col9\" >1.000</td>\n",
       "                        <td id=\"T_330c6638_b4e1_11eb_8cd1_3c970ecec0b4row9_col10\" class=\"data row9 col10\" >0.728</td>\n",
       "                        <td id=\"T_330c6638_b4e1_11eb_8cd1_3c970ecec0b4row9_col11\" class=\"data row9 col11\" >0.047</td>\n",
       "                        <td id=\"T_330c6638_b4e1_11eb_8cd1_3c970ecec0b4row9_col12\" class=\"data row9 col12\" >0.115</td>\n",
       "                        <td id=\"T_330c6638_b4e1_11eb_8cd1_3c970ecec0b4row9_col13\" class=\"data row9 col13\" >-0.058</td>\n",
       "                        <td id=\"T_330c6638_b4e1_11eb_8cd1_3c970ecec0b4row9_col14\" class=\"data row9 col14\" >0.039</td>\n",
       "                        <td id=\"T_330c6638_b4e1_11eb_8cd1_3c970ecec0b4row9_col15\" class=\"data row9 col15\" >0.085</td>\n",
       "                        <td id=\"T_330c6638_b4e1_11eb_8cd1_3c970ecec0b4row9_col16\" class=\"data row9 col16\" >0.169</td>\n",
       "                        <td id=\"T_330c6638_b4e1_11eb_8cd1_3c970ecec0b4row9_col17\" class=\"data row9 col17\" >0.164</td>\n",
       "            </tr>\n",
       "            <tr>\n",
       "                        <th id=\"T_330c6638_b4e1_11eb_8cd1_3c970ecec0b4level0_row10\" class=\"row_heading level0 row10\" >work_address</th>\n",
       "                        <td id=\"T_330c6638_b4e1_11eb_8cd1_3c970ecec0b4row10_col0\" class=\"data row10 col0\" >0.069</td>\n",
       "                        <td id=\"T_330c6638_b4e1_11eb_8cd1_3c970ecec0b4row10_col1\" class=\"data row10 col1\" >-0.015</td>\n",
       "                        <td id=\"T_330c6638_b4e1_11eb_8cd1_3c970ecec0b4row10_col2\" class=\"data row10 col2\" >-0.008</td>\n",
       "                        <td id=\"T_330c6638_b4e1_11eb_8cd1_3c970ecec0b4row10_col3\" class=\"data row10 col3\" >0.001</td>\n",
       "                        <td id=\"T_330c6638_b4e1_11eb_8cd1_3c970ecec0b4row10_col4\" class=\"data row10 col4\" >0.017</td>\n",
       "                        <td id=\"T_330c6638_b4e1_11eb_8cd1_3c970ecec0b4row10_col5\" class=\"data row10 col5\" >-0.009</td>\n",
       "                        <td id=\"T_330c6638_b4e1_11eb_8cd1_3c970ecec0b4row10_col6\" class=\"data row10 col6\" >0.013</td>\n",
       "                        <td id=\"T_330c6638_b4e1_11eb_8cd1_3c970ecec0b4row10_col7\" class=\"data row10 col7\" >0.001</td>\n",
       "                        <td id=\"T_330c6638_b4e1_11eb_8cd1_3c970ecec0b4row10_col8\" class=\"data row10 col8\" >0.254</td>\n",
       "                        <td id=\"T_330c6638_b4e1_11eb_8cd1_3c970ecec0b4row10_col9\" class=\"data row10 col9\" >0.728</td>\n",
       "                        <td id=\"T_330c6638_b4e1_11eb_8cd1_3c970ecec0b4row10_col10\" class=\"data row10 col10\" >1.000</td>\n",
       "                        <td id=\"T_330c6638_b4e1_11eb_8cd1_3c970ecec0b4row10_col11\" class=\"data row10 col11\" >0.068</td>\n",
       "                        <td id=\"T_330c6638_b4e1_11eb_8cd1_3c970ecec0b4row10_col12\" class=\"data row10 col12\" >0.111</td>\n",
       "                        <td id=\"T_330c6638_b4e1_11eb_8cd1_3c970ecec0b4row10_col13\" class=\"data row10 col13\" >-0.063</td>\n",
       "                        <td id=\"T_330c6638_b4e1_11eb_8cd1_3c970ecec0b4row10_col14\" class=\"data row10 col14\" >0.042</td>\n",
       "                        <td id=\"T_330c6638_b4e1_11eb_8cd1_3c970ecec0b4row10_col15\" class=\"data row10 col15\" >0.082</td>\n",
       "                        <td id=\"T_330c6638_b4e1_11eb_8cd1_3c970ecec0b4row10_col16\" class=\"data row10 col16\" >0.171</td>\n",
       "                        <td id=\"T_330c6638_b4e1_11eb_8cd1_3c970ecec0b4row10_col17\" class=\"data row10 col17\" >0.164</td>\n",
       "            </tr>\n",
       "            <tr>\n",
       "                        <th id=\"T_330c6638_b4e1_11eb_8cd1_3c970ecec0b4level0_row11\" class=\"row_heading level0 row11\" >income</th>\n",
       "                        <td id=\"T_330c6638_b4e1_11eb_8cd1_3c970ecec0b4row11_col0\" class=\"data row11 col0\" >0.305</td>\n",
       "                        <td id=\"T_330c6638_b4e1_11eb_8cd1_3c970ecec0b4row11_col1\" class=\"data row11 col1\" >-0.093</td>\n",
       "                        <td id=\"T_330c6638_b4e1_11eb_8cd1_3c970ecec0b4row11_col2\" class=\"data row11 col2\" >0.325</td>\n",
       "                        <td id=\"T_330c6638_b4e1_11eb_8cd1_3c970ecec0b4row11_col3\" class=\"data row11 col3\" >0.370</td>\n",
       "                        <td id=\"T_330c6638_b4e1_11eb_8cd1_3c970ecec0b4row11_col4\" class=\"data row11 col4\" >-0.013</td>\n",
       "                        <td id=\"T_330c6638_b4e1_11eb_8cd1_3c970ecec0b4row11_col5\" class=\"data row11 col5\" >0.052</td>\n",
       "                        <td id=\"T_330c6638_b4e1_11eb_8cd1_3c970ecec0b4row11_col6\" class=\"data row11 col6\" >0.003</td>\n",
       "                        <td id=\"T_330c6638_b4e1_11eb_8cd1_3c970ecec0b4row11_col7\" class=\"data row11 col7\" >0.090</td>\n",
       "                        <td id=\"T_330c6638_b4e1_11eb_8cd1_3c970ecec0b4row11_col8\" class=\"data row11 col8\" >0.313</td>\n",
       "                        <td id=\"T_330c6638_b4e1_11eb_8cd1_3c970ecec0b4row11_col9\" class=\"data row11 col9\" >0.047</td>\n",
       "                        <td id=\"T_330c6638_b4e1_11eb_8cd1_3c970ecec0b4row11_col10\" class=\"data row11 col10\" >0.068</td>\n",
       "                        <td id=\"T_330c6638_b4e1_11eb_8cd1_3c970ecec0b4row11_col11\" class=\"data row11 col11\" >1.000</td>\n",
       "                        <td id=\"T_330c6638_b4e1_11eb_8cd1_3c970ecec0b4row11_col12\" class=\"data row11 col12\" >-0.124</td>\n",
       "                        <td id=\"T_330c6638_b4e1_11eb_8cd1_3c970ecec0b4row11_col13\" class=\"data row11 col13\" >0.150</td>\n",
       "                        <td id=\"T_330c6638_b4e1_11eb_8cd1_3c970ecec0b4row11_col14\" class=\"data row11 col14\" >0.273</td>\n",
       "                        <td id=\"T_330c6638_b4e1_11eb_8cd1_3c970ecec0b4row11_col15\" class=\"data row11 col15\" >-0.054</td>\n",
       "                        <td id=\"T_330c6638_b4e1_11eb_8cd1_3c970ecec0b4row11_col16\" class=\"data row11 col16\" >0.008</td>\n",
       "                        <td id=\"T_330c6638_b4e1_11eb_8cd1_3c970ecec0b4row11_col17\" class=\"data row11 col17\" >0.005</td>\n",
       "            </tr>\n",
       "            <tr>\n",
       "                        <th id=\"T_330c6638_b4e1_11eb_8cd1_3c970ecec0b4level0_row12\" class=\"row_heading level0 row12\" >sna</th>\n",
       "                        <td id=\"T_330c6638_b4e1_11eb_8cd1_3c970ecec0b4row12_col0\" class=\"data row12 col0\" >-0.004</td>\n",
       "                        <td id=\"T_330c6638_b4e1_11eb_8cd1_3c970ecec0b4row12_col1\" class=\"data row12 col1\" >-0.070</td>\n",
       "                        <td id=\"T_330c6638_b4e1_11eb_8cd1_3c970ecec0b4row12_col2\" class=\"data row12 col2\" >-0.072</td>\n",
       "                        <td id=\"T_330c6638_b4e1_11eb_8cd1_3c970ecec0b4row12_col3\" class=\"data row12 col3\" >-0.086</td>\n",
       "                        <td id=\"T_330c6638_b4e1_11eb_8cd1_3c970ecec0b4row12_col4\" class=\"data row12 col4\" >0.069</td>\n",
       "                        <td id=\"T_330c6638_b4e1_11eb_8cd1_3c970ecec0b4row12_col5\" class=\"data row12 col5\" >-0.054</td>\n",
       "                        <td id=\"T_330c6638_b4e1_11eb_8cd1_3c970ecec0b4row12_col6\" class=\"data row12 col6\" >0.068</td>\n",
       "                        <td id=\"T_330c6638_b4e1_11eb_8cd1_3c970ecec0b4row12_col7\" class=\"data row12 col7\" >0.007</td>\n",
       "                        <td id=\"T_330c6638_b4e1_11eb_8cd1_3c970ecec0b4row12_col8\" class=\"data row12 col8\" >-0.078</td>\n",
       "                        <td id=\"T_330c6638_b4e1_11eb_8cd1_3c970ecec0b4row12_col9\" class=\"data row12 col9\" >0.115</td>\n",
       "                        <td id=\"T_330c6638_b4e1_11eb_8cd1_3c970ecec0b4row12_col10\" class=\"data row12 col10\" >0.111</td>\n",
       "                        <td id=\"T_330c6638_b4e1_11eb_8cd1_3c970ecec0b4row12_col11\" class=\"data row12 col11\" >-0.124</td>\n",
       "                        <td id=\"T_330c6638_b4e1_11eb_8cd1_3c970ecec0b4row12_col12\" class=\"data row12 col12\" >1.000</td>\n",
       "                        <td id=\"T_330c6638_b4e1_11eb_8cd1_3c970ecec0b4row12_col13\" class=\"data row12 col13\" >-0.525</td>\n",
       "                        <td id=\"T_330c6638_b4e1_11eb_8cd1_3c970ecec0b4row12_col14\" class=\"data row12 col14\" >-0.174</td>\n",
       "                        <td id=\"T_330c6638_b4e1_11eb_8cd1_3c970ecec0b4row12_col15\" class=\"data row12 col15\" >0.126</td>\n",
       "                        <td id=\"T_330c6638_b4e1_11eb_8cd1_3c970ecec0b4row12_col16\" class=\"data row12 col16\" >-0.004</td>\n",
       "                        <td id=\"T_330c6638_b4e1_11eb_8cd1_3c970ecec0b4row12_col17\" class=\"data row12 col17\" >-0.004</td>\n",
       "            </tr>\n",
       "            <tr>\n",
       "                        <th id=\"T_330c6638_b4e1_11eb_8cd1_3c970ecec0b4level0_row13\" class=\"row_heading level0 row13\" >first_time</th>\n",
       "                        <td id=\"T_330c6638_b4e1_11eb_8cd1_3c970ecec0b4row13_col0\" class=\"data row13 col0\" >0.014</td>\n",
       "                        <td id=\"T_330c6638_b4e1_11eb_8cd1_3c970ecec0b4row13_col1\" class=\"data row13 col1\" >0.095</td>\n",
       "                        <td id=\"T_330c6638_b4e1_11eb_8cd1_3c970ecec0b4row13_col2\" class=\"data row13 col2\" >0.090</td>\n",
       "                        <td id=\"T_330c6638_b4e1_11eb_8cd1_3c970ecec0b4row13_col3\" class=\"data row13 col3\" >0.104</td>\n",
       "                        <td id=\"T_330c6638_b4e1_11eb_8cd1_3c970ecec0b4row13_col4\" class=\"data row13 col4\" >-0.074</td>\n",
       "                        <td id=\"T_330c6638_b4e1_11eb_8cd1_3c970ecec0b4row13_col5\" class=\"data row13 col5\" >0.056</td>\n",
       "                        <td id=\"T_330c6638_b4e1_11eb_8cd1_3c970ecec0b4row13_col6\" class=\"data row13 col6\" >-0.069</td>\n",
       "                        <td id=\"T_330c6638_b4e1_11eb_8cd1_3c970ecec0b4row13_col7\" class=\"data row13 col7\" >0.014</td>\n",
       "                        <td id=\"T_330c6638_b4e1_11eb_8cd1_3c970ecec0b4row13_col8\" class=\"data row13 col8\" >0.089</td>\n",
       "                        <td id=\"T_330c6638_b4e1_11eb_8cd1_3c970ecec0b4row13_col9\" class=\"data row13 col9\" >-0.058</td>\n",
       "                        <td id=\"T_330c6638_b4e1_11eb_8cd1_3c970ecec0b4row13_col10\" class=\"data row13 col10\" >-0.063</td>\n",
       "                        <td id=\"T_330c6638_b4e1_11eb_8cd1_3c970ecec0b4row13_col11\" class=\"data row13 col11\" >0.150</td>\n",
       "                        <td id=\"T_330c6638_b4e1_11eb_8cd1_3c970ecec0b4row13_col12\" class=\"data row13 col12\" >-0.525</td>\n",
       "                        <td id=\"T_330c6638_b4e1_11eb_8cd1_3c970ecec0b4row13_col13\" class=\"data row13 col13\" >1.000</td>\n",
       "                        <td id=\"T_330c6638_b4e1_11eb_8cd1_3c970ecec0b4row13_col14\" class=\"data row13 col14\" >0.195</td>\n",
       "                        <td id=\"T_330c6638_b4e1_11eb_8cd1_3c970ecec0b4row13_col15\" class=\"data row13 col15\" >-0.106</td>\n",
       "                        <td id=\"T_330c6638_b4e1_11eb_8cd1_3c970ecec0b4row13_col16\" class=\"data row13 col16\" >0.019</td>\n",
       "                        <td id=\"T_330c6638_b4e1_11eb_8cd1_3c970ecec0b4row13_col17\" class=\"data row13 col17\" >0.017</td>\n",
       "            </tr>\n",
       "            <tr>\n",
       "                        <th id=\"T_330c6638_b4e1_11eb_8cd1_3c970ecec0b4level0_row14\" class=\"row_heading level0 row14\" >foreign_passport</th>\n",
       "                        <td id=\"T_330c6638_b4e1_11eb_8cd1_3c970ecec0b4row14_col0\" class=\"data row14 col0\" >0.086</td>\n",
       "                        <td id=\"T_330c6638_b4e1_11eb_8cd1_3c970ecec0b4row14_col1\" class=\"data row14 col1\" >-0.037</td>\n",
       "                        <td id=\"T_330c6638_b4e1_11eb_8cd1_3c970ecec0b4row14_col2\" class=\"data row14 col2\" >0.108</td>\n",
       "                        <td id=\"T_330c6638_b4e1_11eb_8cd1_3c970ecec0b4row14_col3\" class=\"data row14 col3\" >0.146</td>\n",
       "                        <td id=\"T_330c6638_b4e1_11eb_8cd1_3c970ecec0b4row14_col4\" class=\"data row14 col4\" >-0.030</td>\n",
       "                        <td id=\"T_330c6638_b4e1_11eb_8cd1_3c970ecec0b4row14_col5\" class=\"data row14 col5\" >0.046</td>\n",
       "                        <td id=\"T_330c6638_b4e1_11eb_8cd1_3c970ecec0b4row14_col6\" class=\"data row14 col6\" >-0.022</td>\n",
       "                        <td id=\"T_330c6638_b4e1_11eb_8cd1_3c970ecec0b4row14_col7\" class=\"data row14 col7\" >0.001</td>\n",
       "                        <td id=\"T_330c6638_b4e1_11eb_8cd1_3c970ecec0b4row14_col8\" class=\"data row14 col8\" >0.255</td>\n",
       "                        <td id=\"T_330c6638_b4e1_11eb_8cd1_3c970ecec0b4row14_col9\" class=\"data row14 col9\" >0.039</td>\n",
       "                        <td id=\"T_330c6638_b4e1_11eb_8cd1_3c970ecec0b4row14_col10\" class=\"data row14 col10\" >0.042</td>\n",
       "                        <td id=\"T_330c6638_b4e1_11eb_8cd1_3c970ecec0b4row14_col11\" class=\"data row14 col11\" >0.273</td>\n",
       "                        <td id=\"T_330c6638_b4e1_11eb_8cd1_3c970ecec0b4row14_col12\" class=\"data row14 col12\" >-0.174</td>\n",
       "                        <td id=\"T_330c6638_b4e1_11eb_8cd1_3c970ecec0b4row14_col13\" class=\"data row14 col13\" >0.195</td>\n",
       "                        <td id=\"T_330c6638_b4e1_11eb_8cd1_3c970ecec0b4row14_col14\" class=\"data row14 col14\" >1.000</td>\n",
       "                        <td id=\"T_330c6638_b4e1_11eb_8cd1_3c970ecec0b4row14_col15\" class=\"data row14 col15\" >-0.067</td>\n",
       "                        <td id=\"T_330c6638_b4e1_11eb_8cd1_3c970ecec0b4row14_col16\" class=\"data row14 col16\" >-0.015</td>\n",
       "                        <td id=\"T_330c6638_b4e1_11eb_8cd1_3c970ecec0b4row14_col17\" class=\"data row14 col17\" >-0.015</td>\n",
       "            </tr>\n",
       "            <tr>\n",
       "                        <th id=\"T_330c6638_b4e1_11eb_8cd1_3c970ecec0b4level0_row15\" class=\"row_heading level0 row15\" >default</th>\n",
       "                        <td id=\"T_330c6638_b4e1_11eb_8cd1_3c970ecec0b4row15_col0\" class=\"data row15 col0\" >0.020</td>\n",
       "                        <td id=\"T_330c6638_b4e1_11eb_8cd1_3c970ecec0b4row15_col1\" class=\"data row15 col1\" >-0.026</td>\n",
       "                        <td id=\"T_330c6638_b4e1_11eb_8cd1_3c970ecec0b4row15_col2\" class=\"data row15 col2\" >-0.043</td>\n",
       "                        <td id=\"T_330c6638_b4e1_11eb_8cd1_3c970ecec0b4row15_col3\" class=\"data row15 col3\" >-0.057</td>\n",
       "                        <td id=\"T_330c6638_b4e1_11eb_8cd1_3c970ecec0b4row15_col4\" class=\"data row15 col4\" >0.121</td>\n",
       "                        <td id=\"T_330c6638_b4e1_11eb_8cd1_3c970ecec0b4row15_col5\" class=\"data row15 col5\" >-0.043</td>\n",
       "                        <td id=\"T_330c6638_b4e1_11eb_8cd1_3c970ecec0b4row15_col6\" class=\"data row15 col6\" >0.175</td>\n",
       "                        <td id=\"T_330c6638_b4e1_11eb_8cd1_3c970ecec0b4row15_col7\" class=\"data row15 col7\" >0.076</td>\n",
       "                        <td id=\"T_330c6638_b4e1_11eb_8cd1_3c970ecec0b4row15_col8\" class=\"data row15 col8\" >-0.089</td>\n",
       "                        <td id=\"T_330c6638_b4e1_11eb_8cd1_3c970ecec0b4row15_col9\" class=\"data row15 col9\" >0.085</td>\n",
       "                        <td id=\"T_330c6638_b4e1_11eb_8cd1_3c970ecec0b4row15_col10\" class=\"data row15 col10\" >0.082</td>\n",
       "                        <td id=\"T_330c6638_b4e1_11eb_8cd1_3c970ecec0b4row15_col11\" class=\"data row15 col11\" >-0.054</td>\n",
       "                        <td id=\"T_330c6638_b4e1_11eb_8cd1_3c970ecec0b4row15_col12\" class=\"data row15 col12\" >0.126</td>\n",
       "                        <td id=\"T_330c6638_b4e1_11eb_8cd1_3c970ecec0b4row15_col13\" class=\"data row15 col13\" >-0.106</td>\n",
       "                        <td id=\"T_330c6638_b4e1_11eb_8cd1_3c970ecec0b4row15_col14\" class=\"data row15 col14\" >-0.067</td>\n",
       "                        <td id=\"T_330c6638_b4e1_11eb_8cd1_3c970ecec0b4row15_col15\" class=\"data row15 col15\" >1.000</td>\n",
       "                        <td id=\"T_330c6638_b4e1_11eb_8cd1_3c970ecec0b4row15_col16\" class=\"data row15 col16\" >-0.037</td>\n",
       "                        <td id=\"T_330c6638_b4e1_11eb_8cd1_3c970ecec0b4row15_col17\" class=\"data row15 col17\" >-0.039</td>\n",
       "            </tr>\n",
       "            <tr>\n",
       "                        <th id=\"T_330c6638_b4e1_11eb_8cd1_3c970ecec0b4level0_row16\" class=\"row_heading level0 row16\" >month</th>\n",
       "                        <td id=\"T_330c6638_b4e1_11eb_8cd1_3c970ecec0b4row16_col0\" class=\"data row16 col0\" >-0.030</td>\n",
       "                        <td id=\"T_330c6638_b4e1_11eb_8cd1_3c970ecec0b4row16_col1\" class=\"data row16 col1\" >0.015</td>\n",
       "                        <td id=\"T_330c6638_b4e1_11eb_8cd1_3c970ecec0b4row16_col2\" class=\"data row16 col2\" >-0.020</td>\n",
       "                        <td id=\"T_330c6638_b4e1_11eb_8cd1_3c970ecec0b4row16_col3\" class=\"data row16 col3\" >-0.025</td>\n",
       "                        <td id=\"T_330c6638_b4e1_11eb_8cd1_3c970ecec0b4row16_col4\" class=\"data row16 col4\" >-0.022</td>\n",
       "                        <td id=\"T_330c6638_b4e1_11eb_8cd1_3c970ecec0b4row16_col5\" class=\"data row16 col5\" >0.005</td>\n",
       "                        <td id=\"T_330c6638_b4e1_11eb_8cd1_3c970ecec0b4row16_col6\" class=\"data row16 col6\" >-0.062</td>\n",
       "                        <td id=\"T_330c6638_b4e1_11eb_8cd1_3c970ecec0b4row16_col7\" class=\"data row16 col7\" >-0.020</td>\n",
       "                        <td id=\"T_330c6638_b4e1_11eb_8cd1_3c970ecec0b4row16_col8\" class=\"data row16 col8\" >0.005</td>\n",
       "                        <td id=\"T_330c6638_b4e1_11eb_8cd1_3c970ecec0b4row16_col9\" class=\"data row16 col9\" >0.169</td>\n",
       "                        <td id=\"T_330c6638_b4e1_11eb_8cd1_3c970ecec0b4row16_col10\" class=\"data row16 col10\" >0.171</td>\n",
       "                        <td id=\"T_330c6638_b4e1_11eb_8cd1_3c970ecec0b4row16_col11\" class=\"data row16 col11\" >0.008</td>\n",
       "                        <td id=\"T_330c6638_b4e1_11eb_8cd1_3c970ecec0b4row16_col12\" class=\"data row16 col12\" >-0.004</td>\n",
       "                        <td id=\"T_330c6638_b4e1_11eb_8cd1_3c970ecec0b4row16_col13\" class=\"data row16 col13\" >0.019</td>\n",
       "                        <td id=\"T_330c6638_b4e1_11eb_8cd1_3c970ecec0b4row16_col14\" class=\"data row16 col14\" >-0.015</td>\n",
       "                        <td id=\"T_330c6638_b4e1_11eb_8cd1_3c970ecec0b4row16_col15\" class=\"data row16 col15\" >-0.037</td>\n",
       "                        <td id=\"T_330c6638_b4e1_11eb_8cd1_3c970ecec0b4row16_col16\" class=\"data row16 col16\" >1.000</td>\n",
       "                        <td id=\"T_330c6638_b4e1_11eb_8cd1_3c970ecec0b4row16_col17\" class=\"data row16 col17\" >0.965</td>\n",
       "            </tr>\n",
       "            <tr>\n",
       "                        <th id=\"T_330c6638_b4e1_11eb_8cd1_3c970ecec0b4level0_row17\" class=\"row_heading level0 row17\" >days</th>\n",
       "                        <td id=\"T_330c6638_b4e1_11eb_8cd1_3c970ecec0b4row17_col0\" class=\"data row17 col0\" >-0.033</td>\n",
       "                        <td id=\"T_330c6638_b4e1_11eb_8cd1_3c970ecec0b4row17_col1\" class=\"data row17 col1\" >0.017</td>\n",
       "                        <td id=\"T_330c6638_b4e1_11eb_8cd1_3c970ecec0b4row17_col2\" class=\"data row17 col2\" >-0.022</td>\n",
       "                        <td id=\"T_330c6638_b4e1_11eb_8cd1_3c970ecec0b4row17_col3\" class=\"data row17 col3\" >-0.027</td>\n",
       "                        <td id=\"T_330c6638_b4e1_11eb_8cd1_3c970ecec0b4row17_col4\" class=\"data row17 col4\" >-0.023</td>\n",
       "                        <td id=\"T_330c6638_b4e1_11eb_8cd1_3c970ecec0b4row17_col5\" class=\"data row17 col5\" >0.005</td>\n",
       "                        <td id=\"T_330c6638_b4e1_11eb_8cd1_3c970ecec0b4row17_col6\" class=\"data row17 col6\" >-0.064</td>\n",
       "                        <td id=\"T_330c6638_b4e1_11eb_8cd1_3c970ecec0b4row17_col7\" class=\"data row17 col7\" >-0.019</td>\n",
       "                        <td id=\"T_330c6638_b4e1_11eb_8cd1_3c970ecec0b4row17_col8\" class=\"data row17 col8\" >0.007</td>\n",
       "                        <td id=\"T_330c6638_b4e1_11eb_8cd1_3c970ecec0b4row17_col9\" class=\"data row17 col9\" >0.164</td>\n",
       "                        <td id=\"T_330c6638_b4e1_11eb_8cd1_3c970ecec0b4row17_col10\" class=\"data row17 col10\" >0.164</td>\n",
       "                        <td id=\"T_330c6638_b4e1_11eb_8cd1_3c970ecec0b4row17_col11\" class=\"data row17 col11\" >0.005</td>\n",
       "                        <td id=\"T_330c6638_b4e1_11eb_8cd1_3c970ecec0b4row17_col12\" class=\"data row17 col12\" >-0.004</td>\n",
       "                        <td id=\"T_330c6638_b4e1_11eb_8cd1_3c970ecec0b4row17_col13\" class=\"data row17 col13\" >0.017</td>\n",
       "                        <td id=\"T_330c6638_b4e1_11eb_8cd1_3c970ecec0b4row17_col14\" class=\"data row17 col14\" >-0.015</td>\n",
       "                        <td id=\"T_330c6638_b4e1_11eb_8cd1_3c970ecec0b4row17_col15\" class=\"data row17 col15\" >-0.039</td>\n",
       "                        <td id=\"T_330c6638_b4e1_11eb_8cd1_3c970ecec0b4row17_col16\" class=\"data row17 col16\" >0.965</td>\n",
       "                        <td id=\"T_330c6638_b4e1_11eb_8cd1_3c970ecec0b4row17_col17\" class=\"data row17 col17\" >1.000</td>\n",
       "            </tr>\n",
       "    </tbody></table>"
      ],
      "text/plain": [
       "<pandas.io.formats.style.Styler at 0x18c9cc92430>"
      ]
     },
     "execution_count": 300,
     "metadata": {},
     "output_type": "execute_result"
    }
   ],
   "source": [
    "# посмотрим на корреляцию признаков обучающей базы\n",
    "corr_train = train.drop(['client_id', 'education'],axis = 1).corr()\n",
    "corr_train.style.background_gradient(cmap='RdYlBu').set_precision(3)"
   ]
  },
  {
   "cell_type": "code",
   "execution_count": 301,
   "metadata": {},
   "outputs": [],
   "source": [
    "# Признаки с высокой корреляцией (по модулю больше 0.8) удалим\n",
    "cat_cols.remove('month')"
   ]
  },
  {
   "cell_type": "markdown",
   "metadata": {},
   "source": [
    "# Подготовка модели"
   ]
  },
  {
   "cell_type": "code",
   "execution_count": 302,
   "metadata": {},
   "outputs": [
    {
     "data": {
      "text/plain": [
       "array([[0., 0., 0., ..., 0., 0., 0.],\n",
       "       [0., 0., 0., ..., 0., 0., 0.],\n",
       "       [0., 0., 0., ..., 0., 0., 0.],\n",
       "       ...,\n",
       "       [0., 0., 0., ..., 1., 0., 0.],\n",
       "       [0., 0., 0., ..., 0., 0., 0.],\n",
       "       [0., 0., 1., ..., 0., 0., 0.]])"
      ]
     },
     "execution_count": 302,
     "metadata": {},
     "output_type": "execute_result"
    }
   ],
   "source": [
    "X_cat = OneHotEncoder(sparse = False).fit_transform(train[cat_cols].values)\n",
    "X_cat"
   ]
  },
  {
   "cell_type": "code",
   "execution_count": 303,
   "metadata": {},
   "outputs": [
    {
     "data": {
      "text/plain": [
       "array([[0., 0., 1., ..., 0., 0., 0.],\n",
       "       [0., 0., 0., ..., 0., 0., 0.],\n",
       "       [0., 0., 0., ..., 0., 0., 0.],\n",
       "       ...,\n",
       "       [0., 0., 1., ..., 0., 0., 0.],\n",
       "       [0., 0., 0., ..., 0., 0., 0.],\n",
       "       [0., 0., 0., ..., 0., 0., 0.]])"
      ]
     },
     "execution_count": 303,
     "metadata": {},
     "output_type": "execute_result"
    }
   ],
   "source": [
    "Y_cat = OneHotEncoder(sparse = False).fit_transform(test[cat_cols].values)\n",
    "Y_cat"
   ]
  },
  {
   "cell_type": "code",
   "execution_count": 304,
   "metadata": {},
   "outputs": [
    {
     "data": {
      "text/plain": [
       "array([[ 1.71113664, -0.78501579, -0.2087987 , -0.51515718, -0.93505217],\n",
       "       [ 1.5399884 , -0.70752611,  0.74754461, -0.51515718,  0.27908159],\n",
       "       [-1.39343857, -0.05288771,  0.99669566,  1.78270228, -0.93505217],\n",
       "       ...,\n",
       "       [-0.66507223,  0.5282444 ,  0.78696739,  1.78270228,  1.55547863],\n",
       "       [-0.89146325, -1.25140899,  0.85380611, -0.51515718, -1.80673795],\n",
       "       [-0.35072683, -0.31419734,  0.28102087, -0.51515718, -1.21523689]])"
      ]
     },
     "execution_count": 304,
     "metadata": {},
     "output_type": "execute_result"
    }
   ],
   "source": [
    "# Стандартизация числовых непрерывных переменных на обучающей базе\n",
    "\n",
    "X_num = StandardScaler().fit_transform(train[num_cols].values)\n",
    "X_num"
   ]
  },
  {
   "cell_type": "code",
   "execution_count": 305,
   "metadata": {},
   "outputs": [
    {
     "data": {
      "text/plain": [
       "array([[-0.88333898,  0.68282058, -0.73288746, -0.51984533,  0.59902814],\n",
       "       [ 0.12606863, -2.63253397,  0.79551047, -0.51984533, -1.18319733],\n",
       "       [ 0.97850869, -0.05272498,  0.42413578, -0.51984533,  0.63029526],\n",
       "       ...,\n",
       "       [-0.65688874,  0.9453502 ,  1.92005304, -0.51984533,  0.84916505],\n",
       "       [-1.12541848, -0.05272498,  1.31888606,  1.77259941, -1.71473827],\n",
       "       [ 0.0372345 , -1.05077617,  0.79042787, -0.51984533,  0.44269258]])"
      ]
     },
     "execution_count": 305,
     "metadata": {},
     "output_type": "execute_result"
    }
   ],
   "source": [
    "# Стандартизация числовых непрерывных переменных на тестовой базе\n",
    "\n",
    "Y_num = StandardScaler().fit_transform(test[num_cols].values)\n",
    "Y_num"
   ]
  },
  {
   "cell_type": "code",
   "execution_count": 306,
   "metadata": {},
   "outputs": [],
   "source": [
    "# Объединяем\n",
    "\n",
    "X = np.hstack([X_num, train[bin_cols].values, X_cat])\n",
    "Y = train['default'].values\n",
    "\n",
    "id_test = test['client_id']\n",
    "test = np.hstack([Y_num, test[bin_cols].values, Y_cat])"
   ]
  },
  {
   "cell_type": "code",
   "execution_count": 307,
   "metadata": {},
   "outputs": [],
   "source": [
    "# Разделяем обучающую выборку на тренировочную и валидационную\n",
    "X_train, X_valid, y_train, y_valid = train_test_split(X, Y, test_size=0.2, random_state=42, shuffle = True)"
   ]
  },
  {
   "cell_type": "code",
   "execution_count": 308,
   "metadata": {},
   "outputs": [
    {
     "name": "stdout",
     "output_type": "stream",
     "text": [
      "Лучшее Penalty: l2\n",
      "Лучшее C: 7.742636826811269\n"
     ]
    }
   ],
   "source": [
    "# Подбор лучших гиперпараметров для модели\n",
    "\n",
    "from sklearn.model_selection import GridSearchCV\n",
    "\n",
    "# Добавим типы регуляризации\n",
    "penalty = ['l1', 'l2']\n",
    "\n",
    "# Зададим ограничения для параметра регуляризации\n",
    "C = np.logspace(0, 4, 10)\n",
    "\n",
    "# Создадим гиперпараметры\n",
    "hyperparameters = dict(C=C, penalty=penalty)\n",
    "\n",
    "model = LogisticRegression()\n",
    "model.fit(X_train, y_train)\n",
    "\n",
    "# Создаем сетку поиска с использованием 5-кратной перекрестной проверки\n",
    "clf = GridSearchCV(model, hyperparameters, cv=5, verbose=0)\n",
    "\n",
    "best_model = clf.fit(X_train, y_train)\n",
    "\n",
    "print('Лучшее Penalty:', best_model.best_estimator_.get_params()['penalty'])\n",
    "print('Лучшее C:', best_model.best_estimator_.get_params()['C'])\n",
    "С = best_model.best_estimator_.get_params()['C']"
   ]
  },
  {
   "cell_type": "code",
   "execution_count": 311,
   "metadata": {},
   "outputs": [
    {
     "data": {
      "text/plain": [
       "LogisticRegression(C=7.742636826811269, class_weight='balanced', max_iter=1000,\n",
       "                   solver='liblinear')"
      ]
     },
     "execution_count": 311,
     "metadata": {},
     "output_type": "execute_result"
    }
   ],
   "source": [
    "# Описываем и обучаем модель\n",
    "model = LogisticRegression( \n",
    "                           C=best_model.best_estimator_.get_params()['C'], \n",
    "                           class_weight='balanced', \n",
    "                           dual=False, \n",
    "                           fit_intercept=True, \n",
    "                           intercept_scaling=1, \n",
    "                           l1_ratio=None, \n",
    "                           multi_class='auto', \n",
    "                           n_jobs=None, \n",
    "                           penalty='l2', \n",
    "                           solver='liblinear', \n",
    "                           verbose=0, \n",
    "                           max_iter=1000)\n",
    "\n",
    "model.fit(X_train, y_train)"
   ]
  },
  {
   "cell_type": "code",
   "execution_count": 312,
   "metadata": {},
   "outputs": [],
   "source": [
    "# Предсказываем значения валидационной базы\n",
    "Y_predict = model.predict(X_valid)\n",
    "Y_predict_prob = model.predict_proba(X_valid)[:,1]"
   ]
  },
  {
   "cell_type": "code",
   "execution_count": 313,
   "metadata": {},
   "outputs": [],
   "source": [
    "# Предсказываем значения тестовой базы\n",
    "y_pred_test = model.predict(test)\n",
    "y_pred_prob_test = model.predict_proba(test)[:,1]"
   ]
  },
  {
   "cell_type": "markdown",
   "metadata": {},
   "source": [
    "# Предварительные результаты"
   ]
  },
  {
   "cell_type": "code",
   "execution_count": 314,
   "metadata": {},
   "outputs": [
    {
     "data": {
      "image/png": "[encoded data removed]",
      "text/plain": [
       "<Figure size 432x288 with 1 Axes>"
      ]
     },
     "metadata": {
      "needs_background": "light"
     },
     "output_type": "display_data"
    }
   ],
   "source": [
    "# Строим ROC-кривую\n",
    "fpr, tpr, threshold = roc_curve(y_valid, Y_predict_prob)\n",
    "roc_auc = roc_auc_score(y_valid, Y_predict_prob)\n",
    "\n",
    "plt.figure()\n",
    "plt.plot([0, 1], label='Baseline', linestyle='--')\n",
    "plt.plot(fpr, tpr, label = 'Regression')\n",
    "plt.title('Logistic Regression ROC AUC = %0.3f' % roc_auc)\n",
    "plt.ylabel('True Positive Rate')\n",
    "plt.xlabel('False Positive Rate')\n",
    "plt.legend(loc = 'lower right')\n",
    "plt.show()"
   ]
  },
  {
   "cell_type": "code",
   "execution_count": 315,
   "metadata": {},
   "outputs": [
    {
     "data": {
      "text/plain": [
       "array([[8644, 4289],\n",
       "       [ 578, 1249]], dtype=int64)"
      ]
     },
     "execution_count": 315,
     "metadata": {},
     "output_type": "execute_result"
    }
   ],
   "source": [
    "#считаем confusion_matrix ...\n",
    "cm=confusion_matrix(y_valid,Y_predict)\n",
    "cm"
   ]
  },
  {
   "cell_type": "code",
   "execution_count": 321,
   "metadata": {},
   "outputs": [
    {
     "data": {
      "image/png": "[encoded data removed]",
      "text/plain": [
       "<Figure size 360x360 with 2 Axes>"
      ]
     },
     "metadata": {
      "needs_background": "light"
     },
     "output_type": "display_data"
    }
   ],
   "source": [
    "# визуализируем для наглядности\n",
    "plt.figure(figsize=(5,5))\n",
    "sns.heatmap(cm, annot=True, fmt=\".3f\", linewidths=.5, square = True, cmap = 'Blues_r');\n",
    "plt.ylabel('Actual label');\n",
    "plt.xlabel('Predicted label');\n"
   ]
  },
  {
   "cell_type": "code",
   "execution_count": 317,
   "metadata": {},
   "outputs": [
    {
     "data": {
      "text/html": [
       "<div>\n",
       "<style scoped>\n",
       "    .dataframe tbody tr th:only-of-type {\n",
       "        vertical-align: middle;\n",
       "    }\n",
       "\n",
       "    .dataframe tbody tr th {\n",
       "        vertical-align: top;\n",
       "    }\n",
       "\n",
       "    .dataframe thead th {\n",
       "        text-align: right;\n",
       "    }\n",
       "</style>\n",
       "<table border=\"1\" class=\"dataframe\">\n",
       "  <thead>\n",
       "    <tr style=\"text-align: right;\">\n",
       "      <th></th>\n",
       "      <th>Value</th>\n",
       "      <th>Description</th>\n",
       "    </tr>\n",
       "  </thead>\n",
       "  <tbody>\n",
       "    <tr>\n",
       "      <th>Positive, P</th>\n",
       "      <td>1827.000000</td>\n",
       "      <td>default</td>\n",
       "    </tr>\n",
       "    <tr>\n",
       "      <th>Negative, N</th>\n",
       "      <td>12933.000000</td>\n",
       "      <td>non-default</td>\n",
       "    </tr>\n",
       "    <tr>\n",
       "      <th>True Positive, TP</th>\n",
       "      <td>1249.000000</td>\n",
       "      <td>correctly identified default</td>\n",
       "    </tr>\n",
       "    <tr>\n",
       "      <th>True Negative, TN</th>\n",
       "      <td>8644.000000</td>\n",
       "      <td>correctly identified non-default</td>\n",
       "    </tr>\n",
       "    <tr>\n",
       "      <th>False Positive, FP</th>\n",
       "      <td>4289.000000</td>\n",
       "      <td>incorrectly identified default</td>\n",
       "    </tr>\n",
       "    <tr>\n",
       "      <th>False Negative, FN</th>\n",
       "      <td>578.000000</td>\n",
       "      <td>incorrectly identified non-default</td>\n",
       "    </tr>\n",
       "    <tr>\n",
       "      <th>Accuracy</th>\n",
       "      <td>0.670257</td>\n",
       "      <td>Accuracy=(TP+TN)/(P+N)</td>\n",
       "    </tr>\n",
       "    <tr>\n",
       "      <th>Precision</th>\n",
       "      <td>0.225533</td>\n",
       "      <td>Precision = TP/(TP+FP)</td>\n",
       "    </tr>\n",
       "    <tr>\n",
       "      <th>Recall</th>\n",
       "      <td>0.683634</td>\n",
       "      <td>Recall = TP/P</td>\n",
       "    </tr>\n",
       "    <tr>\n",
       "      <th>F1-score</th>\n",
       "      <td>0.339172</td>\n",
       "      <td>Harmonical mean of Precision и Recall</td>\n",
       "    </tr>\n",
       "    <tr>\n",
       "      <th>ROC_AUC</th>\n",
       "      <td>0.743700</td>\n",
       "      <td>ROC AUC Score</td>\n",
       "    </tr>\n",
       "  </tbody>\n",
       "</table>\n",
       "</div>"
      ],
      "text/plain": [
       "                           Value                            Description\n",
       "Positive, P          1827.000000                                default\n",
       "Negative, N         12933.000000                            non-default\n",
       "True Positive, TP    1249.000000           correctly identified default\n",
       "True Negative, TN    8644.000000       correctly identified non-default\n",
       "False Positive, FP   4289.000000         incorrectly identified default\n",
       "False Negative, FN    578.000000     incorrectly identified non-default\n",
       "Accuracy                0.670257                 Accuracy=(TP+TN)/(P+N)\n",
       "Precision               0.225533                 Precision = TP/(TP+FP)\n",
       "Recall                  0.683634                          Recall = TP/P\n",
       "F1-score                0.339172  Harmonical mean of Precision и Recall\n",
       "ROC_AUC                 0.743700                          ROC AUC Score"
      ]
     },
     "metadata": {},
     "output_type": "display_data"
    }
   ],
   "source": [
    "# Выведем метрики качества модели\n",
    "all_metrics(y_valid, Y_predict, Y_predict_prob)"
   ]
  },
  {
   "cell_type": "code",
   "execution_count": 318,
   "metadata": {},
   "outputs": [],
   "source": [
    "# Обучаем модель на всей обучающей базе\n",
    "main_model = LogisticRegression( \n",
    "                           C=best_model.best_estimator_.get_params()['C'], \n",
    "                           class_weight='balanced', \n",
    "                           dual=False, \n",
    "                           fit_intercept=True, \n",
    "                           intercept_scaling=1, \n",
    "                           l1_ratio=None, \n",
    "                           multi_class='auto', \n",
    "                           n_jobs=None, \n",
    "                           penalty='l2', \n",
    "                           solver='liblinear', \n",
    "                           verbose=0, \n",
    "                           max_iter=1000)\n",
    "main_model.fit(X, Y)\n",
    "\n",
    "# Предсказываем значения тестовой базы\n",
    "y_pred_test = main_model.predict(test)\n",
    "y_pred_prob_test = main_model.predict_proba(test)[:,1]"
   ]
  },
  {
   "cell_type": "code",
   "execution_count": 320,
   "metadata": {},
   "outputs": [
    {
     "data": {
      "text/html": [
       "<div>\n",
       "<style scoped>\n",
       "    .dataframe tbody tr th:only-of-type {\n",
       "        vertical-align: middle;\n",
       "    }\n",
       "\n",
       "    .dataframe tbody tr th {\n",
       "        vertical-align: top;\n",
       "    }\n",
       "\n",
       "    .dataframe thead th {\n",
       "        text-align: right;\n",
       "    }\n",
       "</style>\n",
       "<table border=\"1\" class=\"dataframe\">\n",
       "  <thead>\n",
       "    <tr style=\"text-align: right;\">\n",
       "      <th></th>\n",
       "      <th>client_id</th>\n",
       "      <th>default</th>\n",
       "    </tr>\n",
       "  </thead>\n",
       "  <tbody>\n",
       "    <tr>\n",
       "      <th>0</th>\n",
       "      <td>74835</td>\n",
       "      <td>0.207307</td>\n",
       "    </tr>\n",
       "    <tr>\n",
       "      <th>1</th>\n",
       "      <td>17527</td>\n",
       "      <td>0.776586</td>\n",
       "    </tr>\n",
       "    <tr>\n",
       "      <th>2</th>\n",
       "      <td>75683</td>\n",
       "      <td>0.313044</td>\n",
       "    </tr>\n",
       "    <tr>\n",
       "      <th>3</th>\n",
       "      <td>26883</td>\n",
       "      <td>0.417367</td>\n",
       "    </tr>\n",
       "    <tr>\n",
       "      <th>4</th>\n",
       "      <td>28862</td>\n",
       "      <td>0.144265</td>\n",
       "    </tr>\n",
       "    <tr>\n",
       "      <th>5</th>\n",
       "      <td>99881</td>\n",
       "      <td>0.577936</td>\n",
       "    </tr>\n",
       "    <tr>\n",
       "      <th>6</th>\n",
       "      <td>26630</td>\n",
       "      <td>0.790445</td>\n",
       "    </tr>\n",
       "    <tr>\n",
       "      <th>7</th>\n",
       "      <td>79934</td>\n",
       "      <td>0.168988</td>\n",
       "    </tr>\n",
       "    <tr>\n",
       "      <th>8</th>\n",
       "      <td>16605</td>\n",
       "      <td>0.144032</td>\n",
       "    </tr>\n",
       "    <tr>\n",
       "      <th>9</th>\n",
       "      <td>105449</td>\n",
       "      <td>0.150455</td>\n",
       "    </tr>\n",
       "  </tbody>\n",
       "</table>\n",
       "</div>"
      ],
      "text/plain": [
       "   client_id   default\n",
       "0      74835  0.207307\n",
       "1      17527  0.776586\n",
       "2      75683  0.313044\n",
       "3      26883  0.417367\n",
       "4      28862  0.144265\n",
       "5      99881  0.577936\n",
       "6      26630  0.790445\n",
       "7      79934  0.168988\n",
       "8      16605  0.144032\n",
       "9     105449  0.150455"
      ]
     },
     "execution_count": 320,
     "metadata": {},
     "output_type": "execute_result"
    }
   ],
   "source": [
    "# Записываем предсказанные моделью вероятности дефолта заемщиков из тестовой базы в отдельный файл\n",
    "new_sample_submission = pd.DataFrame({'client_id': id_test,\n",
    "                              'default': y_pred_prob_test})\n",
    "new_sample_submission.to_csv('submission.csv', index=False)\n",
    "\n",
    "new_sample_submission.head(10)"
   ]
  },
  {
   "cell_type": "code",
   "execution_count": null,
   "metadata": {},
   "outputs": [],
   "source": []
  }
 ],
 "metadata": {
  "kernelspec": {
   "display_name": "Python 3",
   "language": "python",
   "name": "python3"
  },
  "language_info": {
   "codemirror_mode": {
    "name": "ipython",
    "version": 3
   },
   "file_extension": ".py",
   "mimetype": "text/x-python",
   "name": "python",
   "nbconvert_exporter": "python",
   "pygments_lexer": "ipython3",
   "version": "3.8.5"
  }
 },
 "nbformat": 4,
 "nbformat_minor": 4
}
